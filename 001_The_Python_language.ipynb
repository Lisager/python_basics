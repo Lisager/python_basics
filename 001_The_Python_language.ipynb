{
 "cells": [
  {
   "cell_type": "markdown",
   "metadata": {},
   "source": [
    "# What is Python?"
   ]
  },
  {
   "cell_type": "markdown",
   "metadata": {},
   "source": [
    "![Python logo](https://upload.wikimedia.org/wikipedia/commons/thumb/c/c3/Python-logo-notext.svg/110px-Python-logo-notext.svg.png)"
   ]
  },
  {
   "cell_type": "markdown",
   "metadata": {},
   "source": [
    "[Python](http://www.python.org/) is a very popular general-purpose programming language. "
   ]
  },
  {
   "cell_type": "markdown",
   "metadata": {},
   "source": [
    "Its popularity is commonly explained by the facts that the language is:\n",
    "\n",
    "* **Clean and simple**: The code is easy to read, and it is simple to learn the basic syntax.\n",
    "* **Expressive**: A task is usually achieved with fewer lines of code than for other programming languages. Fewer lines of code often translate to fewer bugs and code easier to maintain.\n",
    "* **Interpreted**: No need to compile the code. The Python interpreter reads and executes the code directly.\n",
    "* **Dynamically typed**: No need to define the type of variables.\n",
    "* **Automatic memory management**: No need to explicitly allocate and deallocate memory for variables. \n",
    "* **Free** and **open source**.\n",
    "* **Well designed** (encourage many good programming practices).\n",
    "\n",
    "It also helps that it has:\n",
    "\n",
    "* **A large standard library**.\n",
    "* **A large collection of third-party packages**."
   ]
  },
  {
   "cell_type": "markdown",
   "metadata": {},
   "source": [
    "However, you need to be aware that Python has some weaknesses. Among them:\n",
    "\n",
    "* Since interpreted and dynamically typed, Python code can be **slow** compared to compiled statically typed programming languages (e.g., C++ and Fortran).\n",
    "* The large number of packages and documentation publicly available can make **difficult to orient across all the available information**, particularly when you start do learn it."
   ]
  },
  {
   "cell_type": "markdown",
   "metadata": {},
   "source": [
    "# Let's Start to Learn Python!"
   ]
  },
  {
   "cell_type": "markdown",
   "metadata": {},
   "source": [
    "The aim of this collection of notebooks is **not** to teach you all the aspects of the Python language and its ecosystem, but just **a minimal but meaningful subset** of it to help you to start with."
   ]
  },
  {
   "cell_type": "markdown",
   "metadata": {},
   "source": [
    "## Variables and Dynamic Types"
   ]
  },
  {
   "cell_type": "markdown",
   "metadata": {},
   "source": [
    "Variables can be named:\n",
    "\n",
    "- Using alphanumerical characters `a-z`, `A-Z`, `0-9` and some special characters such as `_`. \n",
    "- The first character cannot be a number.\n",
    "- By convention, variable names start with a lower-case letter. \n",
    "\n",
    "However, there are a number of Python keywords that **cannot** be used as variable names:\n",
    "\n",
    "    and, as, assert, break, class, continue, def, del, elif, else, except, \n",
    "    exec, finally, for, from, global, if, import, in, is, lambda, not, or,\n",
    "    pass, print, raise, return, try, while, with, yield"
   ]
  },
  {
   "cell_type": "markdown",
   "metadata": {},
   "source": [
    "You can assign a value to a variable using the assignment operator: `=`.\n",
    "\n",
    "Since Python is dynamically typed, you do not need to specify the type of a variable when you create it.\n",
    "\n",
    "If you execute the code in the following **Code** cell, the value of `1.0` will be assigned to the variable named `x`. If you don't remember how to execute a **Code** cell, re-read the [welcome notebook](000_Welcome_on_board.ipynb)."
   ]
  },
  {
   "cell_type": "code",
   "execution_count": 5,
   "metadata": {},
   "outputs": [],
   "source": [
    "x = 8.0"
   ]
  },
  {
   "cell_type": "markdown",
   "metadata": {},
   "source": [
    "Although you did not explicitly define the type, each variable has a type associated with it. Python will derive the type based on the assigned value. You can retrieve the type of the `x` variable by using the function `type()`:"
   ]
  },
  {
   "cell_type": "code",
   "execution_count": 6,
   "metadata": {},
   "outputs": [
    {
     "data": {
      "text/plain": [
       "float"
      ]
     },
     "execution_count": 6,
     "metadata": {},
     "output_type": "execute_result"
    }
   ],
   "source": [
    "type(x)"
   ]
  },
  {
   "cell_type": "markdown",
   "metadata": {},
   "source": [
    "If you assign another value to the `x` variable, its type may change. Try to execute (in order) the following two cells:"
   ]
  },
  {
   "cell_type": "code",
   "execution_count": 12,
   "metadata": {},
   "outputs": [],
   "source": [
    "x = 8"
   ]
  },
  {
   "cell_type": "code",
   "execution_count": 13,
   "metadata": {},
   "outputs": [
    {
     "data": {
      "text/plain": [
       "int"
      ]
     },
     "execution_count": 13,
     "metadata": {},
     "output_type": "execute_result"
    }
   ],
   "source": [
    "type(x)"
   ]
  },
  {
   "cell_type": "markdown",
   "metadata": {},
   "source": [
    "The `type()` function is one of the many functions available with the Python standard library.\n",
    "\n",
    "An extensive documentation explains those functions. For instance, follow (this link)[https://docs.python.org/3.6/library/functions.html?#type] to learn more about the `type()` function. "
   ]
  },
  {
   "cell_type": "markdown",
   "metadata": {},
   "source": [
    "What happens if you use the `type()` function with a variable `y` that has not yet been defined? Try it:"
   ]
  },
  {
   "cell_type": "code",
   "execution_count": 14,
   "metadata": {},
   "outputs": [
    {
     "data": {
      "text/plain": [
       "float"
      ]
     },
     "execution_count": 14,
     "metadata": {},
     "output_type": "execute_result"
    }
   ],
   "source": [
    "type(y)"
   ]
  },
  {
   "cell_type": "markdown",
   "metadata": {},
   "source": [
    "You should have got a meaningful `NameError: name 'y' is not defined`!\n",
    "\n",
    "The error does not happen if you execute the following code since the `y` variable is first definedm then the `type()` function is called with it:"
   ]
  },
  {
   "cell_type": "code",
   "execution_count": 15,
   "metadata": {},
   "outputs": [
    {
     "data": {
      "text/plain": [
       "float"
      ]
     },
     "execution_count": 15,
     "metadata": {},
     "output_type": "execute_result"
    }
   ],
   "source": [
    "y = 3.2\n",
    "type(y)"
   ]
  },
  {
   "cell_type": "markdown",
   "metadata": {},
   "source": [
    "# Useful References"
   ]
  },
  {
   "cell_type": "markdown",
   "metadata": {},
   "source": [
    "* [Python](http://www.python.org/)\n"
   ]
  }
 ],
 "metadata": {
  "kernelspec": {
   "display_name": "Python 3",
   "language": "python",
   "name": "python3"
  },
  "language_info": {
   "codemirror_mode": {
    "name": "ipython",
    "version": 3
   },
   "file_extension": ".py",
   "mimetype": "text/x-python",
   "name": "python",
   "nbconvert_exporter": "python",
   "pygments_lexer": "ipython3",
   "version": "3.6.5"
  }
 },
 "nbformat": 4,
 "nbformat_minor": 2
}
