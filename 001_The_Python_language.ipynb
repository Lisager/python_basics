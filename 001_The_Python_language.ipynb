{
 "cells": [
  {
   "cell_type": "markdown",
   "metadata": {},
   "source": [
    "# What is Python"
   ]
  },
  {
   "cell_type": "markdown",
   "metadata": {},
   "source": [
    "[Python](http://www.python.org/) is a very popular general-purpose programming language. Its popularity is mainly because Python is:\n",
    "\n",
    "* **Clean and simple**: Easy to read the code, and simple to learn the basic syntax.\n",
    "* **Expressive**: Fewer lines of code often translate to fewer bugs and code easier to maintain.\n",
    "\n",
    "It is fun to work with Python because:\n",
    "\n",
    "* **Interpreted**: No need to compile the code. The Python interpreter reads and executes the code directly.\n",
    "* **Dynamically typed**: No need to define the type of variables.\n",
    "* **Has automatic memory management**: No need to explicitly allocate and deallocate memory for variables. "
   ]
  },
  {
   "cell_type": "markdown",
   "metadata": {},
   "source": [
    "**Pros**\n",
    "\n",
    "* It's free and open source.\n",
    "* Minimize the time required to develop, debug and maintain the code.\n",
    "* Well designed language that encourage many good programming practices.\n",
    "* A large standard library.\n",
    "* A large collection of third-party packages.\n",
    "\n",
    "**Cons**\n",
    "\n",
    "* Since interpreted and dynamically typed, Python code can be slow compared to compiled statically typed programming languages (e.g., C++ and Fortran).\n",
    "* The large number of packages and documentation publicly avaialable can make hard to get started with Python."
   ]
  },
  {
   "cell_type": "markdown",
   "metadata": {},
   "source": [
    "# Useful References"
   ]
  },
  {
   "cell_type": "markdown",
   "metadata": {},
   "source": [
    "* [Python](http://www.python.org/)\n"
   ]
  }
 ],
 "metadata": {
  "kernelspec": {
   "display_name": "Python 3",
   "language": "python",
   "name": "python3"
  },
  "language_info": {
   "codemirror_mode": {
    "name": "ipython",
    "version": 3
   },
   "file_extension": ".py",
   "mimetype": "text/x-python",
   "name": "python",
   "nbconvert_exporter": "python",
   "pygments_lexer": "ipython3",
   "version": "3.6.5"
  }
 },
 "nbformat": 4,
 "nbformat_minor": 2
}
