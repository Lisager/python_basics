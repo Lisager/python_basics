{
 "cells": [
  {
   "cell_type": "markdown",
   "metadata": {},
   "source": [
    "<a href=\"https://www.hydroffice.org/epom/\"><img src=\"images/000_000_epom_logo.png\" alt=\"ePOM\" title=\"Open ePOM home page\" align=\"center\" width=\"12%\" alt=\"Python logo\\\"></a>"
   ]
  },
  {
   "cell_type": "markdown",
   "metadata": {},
   "source": [
    "<a href=\"https://piazza.com/e-learning_python_for_ocean_mapping/summer2019/om000/home\"><img src=\"images/help.png\" alt=\"ePOM\" title=\"Ask questions on Piazza.com\" align=\"right\" width=\"10%\" alt=\"Piazza.com\\\"></a>\n",
    "# More About Classes"
   ]
  },
  {
   "cell_type": "markdown",
   "metadata": {},
   "source": [
    "A Python class has all the standard features required for [object-oriented programming](https://en.wikipedia.org/wiki/Object-oriented_programming)."
   ]
  },
  {
   "cell_type": "markdown",
   "metadata": {},
   "source": [
    "<img align=\"left\" width=\"6%\" style=\"padding-right:10px;\" src=\"images/info.png\">\n",
    "\n",
    "These standard features are:"
   ]
  },
  {
   "cell_type": "markdown",
   "metadata": {},
   "source": [
    "* The presence of a [class inheritance mechanism](https://en.wikipedia.org/wiki/Inheritance_(object-oriented_programming)). (Multiple base classes are allowed.)\n",
    "* The property that a derived class can [override any methods](https://en.wikipedia.org/wiki/Method_overriding) of its base class. \n",
    "* The possibility for a method to call the method of a base class with the same name. "
   ]
  },
  {
   "cell_type": "markdown",
   "metadata": {},
   "source": [
    "Digging into these features is quite outside of the scope of this collection of notebooks. Thus, at the end of this notebook, you will know just a subset of what you can do with classes in Python. \n",
    "\n",
    "However, that subset should be a good base for you in case that you decide to continue the learning on your own."
   ]
  },
  {
   "cell_type": "markdown",
   "metadata": {},
   "source": [
    "## The Class Interface"
   ]
  },
  {
   "cell_type": "markdown",
   "metadata": {},
   "source": [
    "As we have started to see in the [past notebook](008_First_Steps_of_a_Class.ipynb), objects contain data stored through the **class attributes**."
   ]
  },
  {
   "cell_type": "markdown",
   "metadata": {},
   "source": [
    "The values in these attributes characterize the **class state**. Although you can directly modifies the attributes (and, thus, the class state), the proper way to proceed is to define the so-called **class interface**."
   ]
  },
  {
   "cell_type": "markdown",
   "metadata": {},
   "source": [
    "<img align=\"left\" width=\"6%\" style=\"padding-right:10px;\" src=\"images/key.png\">\n",
    "\n",
    "The **class interface** is represented by the set of the available methods for a class."
   ]
  },
  {
   "cell_type": "markdown",
   "metadata": {},
   "source": [
    "What is the advantage of designing and maintaining a **class interface**? \n",
    "\n",
    "You can change the internal implementation (e.g., some attributes) without having to change the interface. This means that other parts of your program do **not** have to change to accommodate those changes."
   ]
  },
  {
   "cell_type": "markdown",
   "metadata": {},
   "source": [
    "## Adding a `read(self)` Method"
   ]
  },
  {
   "cell_type": "markdown",
   "metadata": {},
   "source": [
    "In this first example of interface method, we will add a `read(self)`. \n",
    "\n",
    "This method performs similar operations to what was described in the [Read and Write Text Files notebook](007_Read_and_Write_Text_Files), but using the internal class attributes."
   ]
  },
  {
   "cell_type": "code",
   "execution_count": null,
   "metadata": {},
   "outputs": [],
   "source": [
    "import os\n",
    "\n",
    "class SalinityManager:\n",
    "    \"\"\"A file manager for salinity\"\"\"\n",
    "    \n",
    "    def __init__(self, data_path):\n",
    "        self.sal_values = list()\n",
    "        self.sal_path = data_path\n",
    "        \n",
    "    def __str__(self):\n",
    "        sal_path_txt = \"path: \" + self.sal_path + \", \"\n",
    "        sal_values_txt = \"nr_values: \" + str(len(self.sal_values))\n",
    "        txt = \"SalinityManager[\" + sal_path_txt + sal_values_txt + \"]\"\n",
    "        return txt\n",
    "    \n",
    "    def read(self):  # NEW METHOD!\n",
    "        # check whether the passed file does not exist\n",
    "        if not os.path.exists(self.sal_path):\n",
    "            raise RuntimeError(\"Unable to locate \" + self.sal_path)\n",
    "            \n",
    "        # read the file content\n",
    "        sal_file = open(self.sal_path)\n",
    "        sal_content = sal_file.read()\n",
    "        sal_file.close()\n",
    "        \n",
    "        # convert to float and append to the internal list of values\n",
    "        sal_lines = sal_content.splitlines()  # split the string retrieved from the file by new line\n",
    "        for sal_line in sal_lines:\n",
    "            self.sal_values.append(float(sal_line))  # convert the string in each line to float, then append to the list\n",
    " "
   ]
  },
  {
   "cell_type": "markdown",
   "metadata": {},
   "source": [
    "After executing the previous **Code** cell, we can test whether the new `read(self)` method is working:"
   ]
  },
  {
   "cell_type": "code",
   "execution_count": null,
   "metadata": {},
   "outputs": [],
   "source": [
    "def get_data_paths():\n",
    "    data_paths = list()\n",
    "    cur_folder = os.path.abspath(os.path.curdir)\n",
    "    data_folder = os.path.join(cur_folder, 'data')\n",
    "    data_filenames = os.listdir(data_folder)\n",
    "    \n",
    "    for data_filename in data_filenames:\n",
    "        data_path = os.path.join(data_folder, data_filename)\n",
    "        data_paths.append(data_path)\n",
    "    \n",
    "    data_paths.sort()  # sort in alphabetical order\n",
    "    \n",
    "    return data_paths\n",
    "\n",
    "retrieved_paths = get_data_paths()\n",
    "input_path = retrieved_paths[1]\n",
    "\n",
    "sal_mng = SalinityManager(data_path=input_path)\n",
    "sal_mng.read()\n",
    "print(sal_mng)"
   ]
  },
  {
   "cell_type": "markdown",
   "metadata": {},
   "source": [
    "As you can see from reading the `print()` output, the resulting object has 20 salinity values. \n",
    "\n",
    "If you want to see those value, you can use the `.` operator to access the `sal_values` attribute."
   ]
  },
  {
   "cell_type": "code",
   "execution_count": null,
   "metadata": {},
   "outputs": [],
   "source": [
    "print(sal_mng.sal_values)"
   ]
  },
  {
   "cell_type": "markdown",
   "metadata": {},
   "source": [
    "***"
   ]
  },
  {
   "cell_type": "markdown",
   "metadata": {},
   "source": [
    "## Adding a `write(self, output_path)` Method"
   ]
  },
  {
   "cell_type": "markdown",
   "metadata": {},
   "source": [
    "Following the parallel with the [Read and Write Text Files notebook](007_Read_and_Write_Text_Files), we will now add a method to write the salinity data into an output file:"
   ]
  },
  {
   "cell_type": "code",
   "execution_count": null,
   "metadata": {},
   "outputs": [],
   "source": [
    "import os\n",
    "\n",
    "class SalinityManager:\n",
    "    \"\"\"A file manager for salinity\"\"\"\n",
    "    \n",
    "    def __init__(self, data_path):\n",
    "        self.sal_values = list()\n",
    "        self.sal_path = data_path\n",
    "        \n",
    "    def __str__(self):\n",
    "        sal_path_txt = \"path: \" + self.sal_path + \", \"\n",
    "        sal_values_txt = \"nr_values: \" + str(len(self.sal_values))\n",
    "        txt = \"SalinityManager[\" + sal_path_txt + sal_values_txt + \"]\"\n",
    "        return txt\n",
    "    \n",
    "    def read(self):\n",
    "        # check whether the passed file does not exist\n",
    "        if not os.path.exists(self.sal_path):\n",
    "            raise RuntimeError(\"Unable to locate \" + self.sal_path)\n",
    "            \n",
    "        # read the file content\n",
    "        sal_file = open(self.sal_path)\n",
    "        sal_content = sal_file.read()\n",
    "        sal_file.close()\n",
    "        \n",
    "        # convert to float and append to the internal list of values\n",
    "        sal_lines = sal_content.splitlines()  # split the string retrieved from the file by new line\n",
    "        for sal_line in sal_lines:\n",
    "            self.sal_values.append(float(sal_line))  # convert the string in each line to float, then append to the list\n",
    " \n",
    "    def write(self, output_path):  # NEW METHOD!\n",
    "        output_file = open(output_path, mode=\"w\")\n",
    "    \n",
    "        for value in self.sal_values:\n",
    "            line_content = str(value) + \"\\n\"  # the \"\\n\" is the character for the new line\n",
    "            output_file.write(line_content)\n",
    "        \n",
    "        output_file.close()"
   ]
  },
  {
   "cell_type": "markdown",
   "metadata": {},
   "source": [
    "Before calling the new `write(self, output_path)` method, we need to set the output path:"
   ]
  },
  {
   "cell_type": "code",
   "execution_count": null,
   "metadata": {},
   "outputs": [],
   "source": [
    "def get_output_folder():\n",
    "    cur_folder = os.path.abspath(os.path.curdir)\n",
    "    output_folder = os.path.join(cur_folder, \"output\")\n",
    "    if os.path.exists(output_folder):\n",
    "        return output_folder\n",
    "    else:  # in case that the output folder does not exists, we raise a meaningful error\n",
    "        raise RuntimeError(\"Unable to locate the output folder: \" + output_folder)\n",
    "\n",
    "output_folder = get_output_folder()\n",
    "output_sal_path = os.path.join(output_folder, \"output_salinity.txt\")\n",
    "print(\"The output file path is: \" + output_sal_path)"
   ]
  },
  {
   "cell_type": "markdown",
   "metadata": {},
   "source": [
    "With the retrieved `output_sal_path`, we can now call the method to write the salinity values to the disk:"
   ]
  },
  {
   "cell_type": "code",
   "execution_count": null,
   "metadata": {},
   "outputs": [],
   "source": [
    "sal_mng = SalinityManager(data_path=input_path)\n",
    "sal_mng.read()\n",
    "sal_mng.write(output_path=output_sal_path)"
   ]
  },
  {
   "cell_type": "markdown",
   "metadata": {},
   "source": [
    " "
   ]
  },
  {
   "cell_type": "markdown",
   "metadata": {
    "solution2": "hidden",
    "solution2_first": true
   },
   "source": [
    "<img align=\"left\" width=\"6%\" style=\"padding-right:10px;\" src=\"images/test.png\">\n",
    "\n",
    "Write a class that reads and writes the provided temperature file (`input_path`). Then, demonstrate how to use the class (i.e., by reading the temperature values and then writing them to disk). "
   ]
  },
  {
   "cell_type": "code",
   "execution_count": null,
   "metadata": {
    "solution2": "hidden"
   },
   "outputs": [],
   "source": [
    "class TemperatureManager:\n",
    "    \"\"\"A file manager for temperature\"\"\"\n",
    "    \n",
    "    def __init__(self, data_path):\n",
    "        self.temp_values = list()\n",
    "        self.temp_path = data_path\n",
    "        \n",
    "    def __str__(self):\n",
    "        temp_path_txt = \"path: \" + self.temp_path + \", \"\n",
    "        temp_values_txt = \"nr_values: \" + str(len(self.temp_values))\n",
    "        txt = \"TemperatureManager[\" + temp_path_txt + temp_values_txt + \"]\"\n",
    "        return txt\n",
    "    \n",
    "    def read(self):\n",
    "        # check whether the passed file does not exist\n",
    "        if not os.path.exists(self.temp_path):\n",
    "            raise RuntimeError(\"Unable to locate \" + self.temp_path)\n",
    "            \n",
    "        # read the file content\n",
    "        temp_file = open(self.temp_path)\n",
    "        temp_content = temp_file.read()\n",
    "        temp_file.close()\n",
    "        \n",
    "        # convert to float and append to the internal list of values\n",
    "        temp_lines = temp_content.splitlines()  # split the string retrieved from the file by new line\n",
    "        for temp_line in temp_lines:\n",
    "            self.temp_values.append(float(temp_line))  # convert the string in each line to float, then append to the list\n",
    " \n",
    "    def write(self, output_path):\n",
    "        output_file = open(output_path, mode=\"w\")\n",
    "    \n",
    "        for value in self.temp_values:\n",
    "            line_content = str(value) + \"\\n\"  # the \"\\n\" is the character for the new line\n",
    "            output_file.write(line_content)\n",
    "        \n",
    "        output_file.close()    \n",
    "    \n",
    "input_path = retrieved_paths[2]\n",
    "print(\"The input file path is: \" + input_path)  # this display the temperature text file to use as input\n",
    "temp_mng = TemperatureManager(data_path=input_path)\n",
    "temp_mng.read()\n",
    "print(temp_mng)\n",
    "\n",
    "output_temp_path = os.path.join(output_folder, \"output_temperature.txt\")\n",
    "print(\"The output file path is: \" + output_temp_path)\n",
    "temp_mng.write(output_path=output_temp_path)"
   ]
  },
  {
   "cell_type": "code",
   "execution_count": null,
   "metadata": {},
   "outputs": [],
   "source": [
    "input_path = retrieved_paths[2]\n",
    "print(\"The input file path is: \" + input_path)  # this display the temperature text file to use as input"
   ]
  },
  {
   "cell_type": "markdown",
   "metadata": {},
   "source": [
    "***"
   ]
  },
  {
   "cell_type": "markdown",
   "metadata": {},
   "source": [
    "<img align=\"left\" width=\"6%\" style=\"padding-right:10px; padding-top:10px;\" src=\"images/refs.png\">\n",
    "\n",
    "## Useful References"
   ]
  },
  {
   "cell_type": "markdown",
   "metadata": {},
   "source": [
    "* [The official Python 3.6 documentation](https://docs.python.org/3.6/index.html)\n",
    "  * [Classes](https://docs.python.org/3.6/tutorial/classes.html)\n",
    "* [Object-oriented Programming](https://en.wikipedia.org/wiki/Object-oriented_programming)"
   ]
  },
  {
   "cell_type": "markdown",
   "metadata": {},
   "source": [
    "<img align=\"left\" width=\"5%\" style=\"padding-right:10px;\" src=\"images/email.png\">\n",
    "\n",
    "*For issues or suggestions related to this notebook, write to: epom@ccom.unh.edu*"
   ]
  },
  {
   "cell_type": "markdown",
   "metadata": {},
   "source": [
    "<!--NAVIGATION-->\n",
    "[< First Steps of a Class](SUP_First_Steps_of_a_Class.ipynb) | [Contents](index.ipynb) | [Wrapping Up Notions with Classes >](SUP_Wrapping_Up_Notions_with_Classes.ipynb)"
   ]
  }
 ],
 "metadata": {
  "kernelspec": {
   "display_name": "Python 3",
   "language": "python",
   "name": "python3"
  },
  "language_info": {
   "codemirror_mode": {
    "name": "ipython",
    "version": 3
   },
   "file_extension": ".py",
   "mimetype": "text/x-python",
   "name": "python",
   "nbconvert_exporter": "python",
   "pygments_lexer": "ipython3",
   "version": "3.6.7"
  }
 },
 "nbformat": 4,
 "nbformat_minor": 2
}
