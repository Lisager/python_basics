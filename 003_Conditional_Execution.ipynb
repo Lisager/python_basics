{
 "cells": [
  {
   "cell_type": "markdown",
   "metadata": {},
   "source": [
    "<a href=\"https://www.hydroffice.org/epom/\"><img src=\"images/000_000_epom_logo.png\" alt=\"ePOM\" title=\"Open ePOM home page\" align=\"center\" width=\"12%\" alt=\"Python logo\\\"></a>"
   ]
  },
  {
   "cell_type": "markdown",
   "metadata": {},
   "source": [
    "# Conditional Execution"
   ]
  },
  {
   "cell_type": "markdown",
   "metadata": {},
   "source": [
    "From the previous notebooks, you should be now quite familiar with some key programming concepts like a string or a list.\n",
    "\n",
    "However, the kind of programs that you could write with those concepts is a bit limited. For instance, you don't currently know how to write a program that performs some calculation only when a specific condition is verified.\n",
    "\n",
    "Well, by the end of this notebook, you will learn how doing it! But we will first introduce another Python built-in type: `bool`."
   ]
  },
  {
   "cell_type": "markdown",
   "metadata": {},
   "source": [
    "## The Boolean Type"
   ]
  },
  {
   "cell_type": "markdown",
   "metadata": {},
   "source": [
    "The `bool` type, named after [a famous mathematician](https://en.wikipedia.org/wiki/George_Boole), has only two possible values: `True` and `False`. This type is simply use to represent truth values."
   ]
  },
  {
   "cell_type": "code",
   "execution_count": null,
   "metadata": {},
   "outputs": [],
   "source": [
    "coding_is_easy = True\n",
    "type(coding_is_easy)"
   ]
  },
  {
   "cell_type": "markdown",
   "metadata": {},
   "source": [
    "<img align=\"left\" width=\"6%\" style=\"padding-right:10px;\" src=\"images/arrow.png\">\n",
    "\n",
    "A `bool` variable can only be `True` or `False`."
   ]
  },
  {
   "cell_type": "markdown",
   "metadata": {},
   "source": [
    "Similar to numeric types, you can cast a `bool` type to a `str` type to print its value:"
   ]
  },
  {
   "cell_type": "code",
   "execution_count": null,
   "metadata": {},
   "outputs": [],
   "source": [
    "coding_is_easy = True\n",
    "print(\"Is coding easy? \" + str(coding_is_easy))"
   ]
  },
  {
   "cell_type": "markdown",
   "metadata": {},
   "source": [
    "## Boolean Expressions"
   ]
  },
  {
   "cell_type": "markdown",
   "metadata": {},
   "source": [
    "Similarly to a `bool` variable, a boolean expression can only be `True` or `False`. "
   ]
  },
  {
   "cell_type": "markdown",
   "metadata": {},
   "source": [
    "A boolean expression usually has (at least) one **relational operator** that verifies a relation between two variables like:\n",
    "\n",
    "- `==`: **is equal to**.\n",
    "- `!=`: **is not equal to**.\n",
    "- `>`: **is greater than**.\n",
    "- `>=`: **is greater than or equal to**.\n",
    "- `<`: **is less than**.\n",
    "- `<=`: **is less than or equal to**."
   ]
  },
  {
   "cell_type": "code",
   "execution_count": null,
   "metadata": {},
   "outputs": [],
   "source": [
    "3 != 2"
   ]
  },
  {
   "cell_type": "markdown",
   "metadata": {},
   "source": [
    "A word of caution about the `==` operator! It does not match with the mathematical symbol of equality: `=`. \n",
    "\n",
    "From the [Variable and Types notebook](001_Variables_and_Types.ipynb), you should remember that Python uses `=` to assign a value to a variable.  "
   ]
  },
  {
   "cell_type": "code",
   "execution_count": null,
   "metadata": {},
   "outputs": [],
   "source": [
    "3 == 2"
   ]
  },
  {
   "cell_type": "markdown",
   "metadata": {},
   "source": [
    "It is also possible to combine several boolean expressions in a single one by using the **logical operators**: `and`, `or`, and `not`."
   ]
  },
  {
   "cell_type": "code",
   "execution_count": null,
   "metadata": {},
   "outputs": [],
   "source": [
    "(8 < 10) and (8 >= 2)"
   ]
  },
  {
   "cell_type": "markdown",
   "metadata": {},
   "source": [
    "<img align=\"left\" width=\"6%\" style=\"padding-right:10px;\" src=\"images/arrow.png\">\n",
    "\n",
    "Boolean expressions are used in combination of relational and logical operators to verify one or more conditions."
   ]
  },
  {
   "cell_type": "markdown",
   "metadata": {},
   "source": [
    " "
   ]
  },
  {
   "cell_type": "markdown",
   "metadata": {
    "solution2": "hidden",
    "solution2_first": true
   },
   "source": [
    "<img align=\"left\" width=\"6%\" style=\"padding-right:10px;\" src=\"images/test.png\">\n",
    "\n",
    "Write the code that successfully checks (i.e., return `True`) that `10` is between `0` and `20` (both inclusive): "
   ]
  },
  {
   "cell_type": "code",
   "execution_count": null,
   "metadata": {
    "solution2": "hidden"
   },
   "outputs": [],
   "source": [
    "(10 >= 0) and (10 <= 20) "
   ]
  },
  {
   "cell_type": "code",
   "execution_count": null,
   "metadata": {},
   "outputs": [],
   "source": []
  },
  {
   "cell_type": "markdown",
   "metadata": {},
   "source": [
    "***"
   ]
  },
  {
   "cell_type": "markdown",
   "metadata": {},
   "source": [
    "## Add Comments to the Code"
   ]
  },
  {
   "cell_type": "markdown",
   "metadata": {},
   "source": [
    "Before getting into the key part of this notebook, we will introduce a simple, but powerful good practice in programming: **always add comments to the code**.\n",
    "\n",
    "Comments will help other people to understand what is the intent of your code at specific points, but also *yourself* when you will may need to look back at your own code in a few weeks. This is particularly true as more your programs will get bigger and more complicated.\n",
    "\n",
    "Comments do not need to be long (actually, verbosity should be avoided!). They should be use in combination with meaningful variable names to clarify your intentions."
   ]
  },
  {
   "cell_type": "markdown",
   "metadata": {},
   "source": [
    "You can add comments in your code by putting a `#` symbol in front of your notes."
   ]
  },
  {
   "cell_type": "code",
   "execution_count": null,
   "metadata": {},
   "outputs": [],
   "source": [
    "# depth of the whale (meters)\n",
    "whale_depth = 23.5\n",
    "\n",
    "# maximum water depth in the area (meters)\n",
    "max_wd = 113.0\n",
    "\n",
    "# whale depth as percentage of maximum water depth \n",
    "pct_wd = (whale_depth / max_wd) * 100.0\n",
    "print(pct_wd)"
   ]
  },
  {
   "cell_type": "markdown",
   "metadata": {},
   "source": [
    "Alternatively, you may also write your comments at the end of a row. Python will ignore everything after the `#` in the row."
   ]
  },
  {
   "cell_type": "code",
   "execution_count": null,
   "metadata": {},
   "outputs": [],
   "source": [
    "whale_depth = 23.5  # depth of the whale (meters)\n",
    "max_wd = 113.0  # maximum water depth in the area (meters)\n",
    "\n",
    "pct_wd = (whale_depth / max_wd) * 100.0  # whale depth as percentage of maximum water depth \n",
    "print(pct_wd)"
   ]
  },
  {
   "cell_type": "markdown",
   "metadata": {},
   "source": [
    "<img align=\"left\" width=\"6%\" style=\"padding-right:10px;\" src=\"images/arrow.png\">\n",
    "\n",
    "Brief but meaningful comments are good coding practice."
   ]
  },
  {
   "cell_type": "markdown",
   "metadata": {},
   "source": [
    "<img align=\"left\" width=\"6%\" style=\"padding-right:10px;\" src=\"images/arrow.png\">\n",
    "\n",
    "A comment starts with `#`."
   ]
  },
  {
   "cell_type": "markdown",
   "metadata": {},
   "source": [
    "Hereafter this notebook will use comments in the example and exercise code."
   ]
  },
  {
   "cell_type": "markdown",
   "metadata": {},
   "source": [
    "***"
   ]
  },
  {
   "cell_type": "markdown",
   "metadata": {},
   "source": [
    "## Applying Conditions with `if`, `elif`, and `else`"
   ]
  },
  {
   "cell_type": "markdown",
   "metadata": {},
   "source": [
    "Conditional statements like `if`, `elif`, and `else` provides you with the ability to check whether specific conditions apply and thus change the behavior of the program accordingly."
   ]
  },
  {
   "cell_type": "markdown",
   "metadata": {},
   "source": [
    "In order to define what to do in case of a given condition, Python requires that you identify what code to execute by indenting it with a consistent number of spaces (commonly, 4). You can just use the `Tab` key and the notebook will convert that command to a fixed number of spaces."
   ]
  },
  {
   "cell_type": "markdown",
   "metadata": {},
   "source": [
    "<img align=\"left\" width=\"6%\" style=\"padding-right:10px;\" src=\"images/arrow.png\">\n",
    "\n",
    "Proper indentation is a key requirement in Python."
   ]
  },
  {
   "cell_type": "markdown",
   "metadata": {},
   "source": [
    "### Just `if`"
   ]
  },
  {
   "cell_type": "markdown",
   "metadata": {},
   "source": [
    "We will start by only using the `if`. For example, we will print `It's cold!` if the temperature is lower than `0` degree Celsius:"
   ]
  },
  {
   "cell_type": "code",
   "execution_count": null,
   "metadata": {},
   "outputs": [],
   "source": [
    "temp = -10  # deg Celsius\n",
    "\n",
    "if temp < 0:  # True when temp < 0, False otherwise\n",
    "    print(\"It's cold!\")  # look at the initial spaces: this row is indented!"
   ]
  },
  {
   "cell_type": "markdown",
   "metadata": {},
   "source": [
    "Did you notice the comments added to the code? They are handy to provide you more details exactly where they are required."
   ]
  },
  {
   "cell_type": "markdown",
   "metadata": {},
   "source": [
    "But what happens in the previous example if the temperature is above zero?"
   ]
  },
  {
   "cell_type": "code",
   "execution_count": null,
   "metadata": {},
   "outputs": [],
   "source": [
    "temp = 15  # deg Celsius\n",
    "\n",
    "if temp < 0:\n",
    "    print(\"It's cold!\")"
   ]
  },
  {
   "cell_type": "markdown",
   "metadata": {},
   "source": [
    "Nothing is printed! The above code does **note** the trigger the printing of `It's cold` because the condition in the `if` statement is `False`."
   ]
  },
  {
   "cell_type": "markdown",
   "metadata": {},
   "source": [
    " "
   ]
  },
  {
   "cell_type": "markdown",
   "metadata": {
    "solution2": "hidden",
    "solution2_first": true
   },
   "source": [
    "<img align=\"left\" width=\"6%\" style=\"padding-right:10px;\" src=\"images/test.png\">\n",
    "\n",
    "Add the code required to visualize `It's hot!` when the temperature is greater than or equal to `30` degree Celsius: "
   ]
  },
  {
   "cell_type": "code",
   "execution_count": null,
   "metadata": {
    "solution2": "hidden"
   },
   "outputs": [],
   "source": [
    "temp = 35  # deg Celsius\n",
    "\n",
    "if temp >= 30:\n",
    "    print(\"It's hot!\")"
   ]
  },
  {
   "cell_type": "code",
   "execution_count": null,
   "metadata": {},
   "outputs": [],
   "source": [
    "temp = 35  # deg Celsius"
   ]
  },
  {
   "cell_type": "markdown",
   "metadata": {},
   "source": [
    "### More than just `if`: `elif` and `else`"
   ]
  },
  {
   "cell_type": "markdown",
   "metadata": {},
   "source": [
    "The keywords `elif` and `else` extend the capabilities of `if`:\n",
    "\n",
    "- The `elif` name is derived by merging *else* and *if* in a single word. As such, it means exactly that: only when the `if` condition is not verified (i.e., `False`), then the `elif` condition is checked.\n",
    "- The `else` is used to execute code only when all the conditions under `if` and `elif` are `False`."
   ]
  },
  {
   "cell_type": "markdown",
   "metadata": {},
   "source": [
    "Let's look at an example to clarify the combined use of `if`, `elif`, and `else`. The following code print the sediment type based on the $\\phi$ value. (If you want to know more about grain size and $\\phi$ values, read [here](https://en.wikipedia.org/wiki/Grain_size).)"
   ]
  },
  {
   "cell_type": "code",
   "execution_count": null,
   "metadata": {},
   "outputs": [],
   "source": [
    "phi = 2.5\n",
    "sediment_type = \"unknown\"\n",
    "\n",
    "# sediment classification based on Krumbein phi scale\n",
    "if phi > 8.0:\n",
    "    sediment_type = \"clay\"\n",
    "elif phi > 4.0:\n",
    "    sediment_type = \"silt\"\n",
    "elif phi > -1.0:\n",
    "    sediment_type = \"sand\"\n",
    "elif phi > -6:\n",
    "    sediment_type = \"gravel\"\n",
    "elif phi > -8:\n",
    "    sediment_type = \"cobble\"\n",
    "else:  # any phi less than -8 phi\n",
    "    sediment_type = \"boulder\"\n",
    "    \n",
    "print(\"The sediment type for a value of \" + str(phi) + \" phi is: \" + sediment_type)"
   ]
  },
  {
   "cell_type": "markdown",
   "metadata": {},
   "source": [
    "Fill free to modify the `phi` value in the above example to obtain different sediment types."
   ]
  },
  {
   "cell_type": "markdown",
   "metadata": {},
   "source": [
    "<img align=\"left\" width=\"6%\" style=\"padding-right:10px;\" src=\"images/arrow.png\">\n",
    "\n",
    "The `if`, `elif`, and `elif` keywords are used to execute code only when a specific condition is `True`."
   ]
  },
  {
   "cell_type": "markdown",
   "metadata": {},
   "source": [
    " "
   ]
  },
  {
   "cell_type": "markdown",
   "metadata": {
    "solution2": "hidden",
    "solution2_first": true
   },
   "source": [
    "<img align=\"left\" width=\"6%\" style=\"padding-right:10px;\" src=\"images/test.png\">\n",
    "\n",
    "Add the code to display: `Weak` if the current strength (`cur_strength` variable) is less than `1.0` m\\s; `Moderate` when less than `5.0` m\\s; otherwise, `Strong`. "
   ]
  },
  {
   "cell_type": "code",
   "execution_count": null,
   "metadata": {
    "solution2": "hidden"
   },
   "outputs": [],
   "source": [
    "cur_strength = 5.5  # m/s\n",
    "cur_type = \"unknown\"\n",
    "\n",
    "if cur_strength < 1.0:\n",
    "    cur_type = \"weak\"\n",
    "elif cur_strength < 5.0:\n",
    "    cur_type = \"moderate\"\n",
    "else:  # any current >= 5.0\n",
    "    cur_type = \"strong\"\n",
    "    \n",
    "print(cur_type)"
   ]
  },
  {
   "cell_type": "code",
   "execution_count": null,
   "metadata": {},
   "outputs": [],
   "source": [
    "cur_strength = 5.5  # m/s\n",
    "cur_type = \"unknown\""
   ]
  },
  {
   "cell_type": "markdown",
   "metadata": {},
   "source": [
    "***"
   ]
  },
  {
   "cell_type": "markdown",
   "metadata": {},
   "source": [
    "<img align=\"left\" width=\"6%\" style=\"padding-right:10px; padding-top:10px;\" src=\"images/refs.png\">\n",
    "\n",
    "## Useful References"
   ]
  },
  {
   "cell_type": "markdown",
   "metadata": {},
   "source": [
    "* [The official Python 3.6 documentation](https://docs.python.org/3.6/index.html)\n",
    "  * [The bool type](https://docs.python.org/3.6/library/functions.html?#bool)\n",
    "* [Sediment Grain Size](https://en.wikipedia.org/wiki/Grain_size)"
   ]
  },
  {
   "cell_type": "markdown",
   "metadata": {},
   "source": [
    "<img align=\"left\" width=\"5%\" style=\"padding-right:10px;\" src=\"images/email.png\">\n",
    "\n",
    "*For issues or suggestions related to this notebook, write to: gmasetti@ccom.unh.edu*"
   ]
  },
  {
   "cell_type": "markdown",
   "metadata": {},
   "source": [
    "<!--NAVIGATION-->\n",
    "[< Lists of Variables](002_Lists_of_Variables.ipynb) | [Contents](index.ipynb) | [Loops >](004_Loops.ipynb)"
   ]
  }
 ],
 "metadata": {
  "kernelspec": {
   "display_name": "Python 3",
   "language": "python",
   "name": "python3"
  },
  "language_info": {
   "codemirror_mode": {
    "name": "ipython",
    "version": 3
   },
   "file_extension": ".py",
   "mimetype": "text/x-python",
   "name": "python",
   "nbconvert_exporter": "python",
   "pygments_lexer": "ipython3",
   "version": "3.6.5"
  }
 },
 "nbformat": 4,
 "nbformat_minor": 2
}
