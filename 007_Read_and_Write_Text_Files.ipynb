{
 "cells": [
  {
   "cell_type": "markdown",
   "metadata": {},
   "source": [
    "<a href=\"https://www.hydroffice.org/epom/\"><img src=\"images/000_000_epom_logo.png\" alt=\"ePOM\" title=\"Open ePOM home page\" align=\"center\" width=\"12%\" alt=\"Python logo\\\"></a>"
   ]
  },
  {
   "cell_type": "markdown",
   "metadata": {},
   "source": [
    "<img align=\"center\" width=\"10%\" style=\"padding-right:10px;\" src=\"images/work.png\">"
   ]
  },
  {
   "cell_type": "markdown",
   "metadata": {},
   "source": [
    "# Read and Write Text Files"
   ]
  },
  {
   "cell_type": "markdown",
   "metadata": {},
   "source": [
    "Now that you understand about `list` and `dict` as well as how to write your own functions with loops and conditional statements, you can already write simply programs that perform quite useful operations. \n",
    "\n",
    "However, as a research assistant, you will likely need to access data that are (locally or remotely) stored in files. A file provides a mechanism for **permanently store** information so that they can be retrieved when your program and/or your machine are restarted.\n",
    "\n",
    "There are two main types of files:"
   ]
  },
  {
   "cell_type": "markdown",
   "metadata": {},
   "source": [
    "<img align=\"left\" width=\"6%\" style=\"padding-right:10px;\" src=\"images/key.png\">\n",
    "\n",
    "A **text file** is a file that only contains plain or marked-up text."
   ]
  },
  {
   "cell_type": "markdown",
   "metadata": {},
   "source": [
    "<img align=\"left\" width=\"6%\" style=\"padding-right:10px;\" src=\"images/key.png\">\n",
    "\n",
    "A **binary file** is any other type of file that does not fit the previous definition of text file."
   ]
  },
  {
   "cell_type": "markdown",
   "metadata": {},
   "source": [
    "You can often recognize a text files by looking at the [file extension](https://en.wikipedia.org/wiki/Filename_extension). Extensions commonly in use for text files are: `.txt`, `.asc`, `.xyz`."
   ]
  },
  {
   "cell_type": "markdown",
   "metadata": {},
   "source": [
    "<img align=\"left\" width=\"6%\" style=\"padding-right:10px;\" src=\"images/info.png\">\n",
    "\n",
    "A very simple test to evaluate whether a given file is or not a text file is to try opening it using a text editor. If you can understand the visualized content, then that is file is likely a text file. *(Be warned that opening a file in this way can take a long time depending on the size of the file.)*"
   ]
  },
  {
   "cell_type": "markdown",
   "metadata": {},
   "source": [
    "We will first introduce some file managing capability of the `os` [Python module](https://docs.python.org/3.6/tutorial/modules.html#modules), then we will describe the use of the functions that Python natively provides for [reading and writing the content of a text file](https://docs.python.org/3.6/tutorial/inputoutput.html)."
   ]
  },
  {
   "cell_type": "markdown",
   "metadata": {},
   "source": [
    "<img align=\"left\" width=\"6%\" style=\"padding-right:10px;\" src=\"images/key.png\">\n",
    "\n",
    "In Python, a **module** is a file containing definitions and statements. The module name is given by the file name without the suffix `.py`."
   ]
  },
  {
   "cell_type": "markdown",
   "metadata": {},
   "source": [
    "<img align=\"left\" width=\"6%\" style=\"padding-right:10px;\" src=\"images/key.png\">\n",
    "\n",
    "Python has native functions to read and write text files."
   ]
  },
  {
   "cell_type": "markdown",
   "metadata": {},
   "source": [
    "## The `os` module"
   ]
  },
  {
   "cell_type": "markdown",
   "metadata": {},
   "source": [
    "The `os` module provides a **portable** way of using several functionalities [across different operating systems](https://en.wikipedia.org/wiki/Cross-platform_software) (i.e., the same code can run on [Linux Ubuntu](https://en.wikipedia.org/wiki/Ubuntu) and [Microsoft Windows 10](https://en.wikipedia.org/wiki/Windows_10))."
   ]
  },
  {
   "cell_type": "markdown",
   "metadata": {},
   "source": [
    "In particular, we will explore the `os.path` sub-module to retrieve some data files that are stored on the server's hard disk.\n",
    "\n",
    "The first required operation is to **import** the `os` module. Then, we will use some of the `os.path` sub-module functionalities and variables to write a function that returns the full path of the server's folder where this notebook is located:\n",
    "\n",
    "- `curdir`: The constant string used by the operating system to refer to the current directory. E.g., `.` for Windows and Linux.\n",
    "- `abspath()`: A function that returns the full, absolute version of a path."
   ]
  },
  {
   "cell_type": "code",
   "execution_count": null,
   "metadata": {},
   "outputs": [],
   "source": [
    "import os\n",
    "\n",
    "def get_current_folder():\n",
    "    cur_folder = path.abspath(os.path.curdir)\n",
    "    return cur_folder\n",
    "\n",
    "print(\"The current folder is: \" + get_current_folder())"
   ]
  },
  {
   "cell_type": "markdown",
   "metadata": {},
   "source": [
    "The data are inside a `data` sub-folder. We now extend the previous code using `os.path.join()` and `os.path.exist()` functions to:\n",
    "\n",
    "- Create the full path to the `data` sub-folder.\n",
    "- Check whether the resulting path actually exists."
   ]
  },
  {
   "cell_type": "markdown",
   "metadata": {},
   "source": [
    "In case that the `data` sub-folder does not exist, we raise an error using the `raise` keyword."
   ]
  },
  {
   "cell_type": "code",
   "execution_count": null,
   "metadata": {},
   "outputs": [],
   "source": [
    "def get_data_folder():\n",
    "    cur_folder = os.path.abspath(os.path.curdir)\n",
    "    data_folder = os.path.join(cur_folder, 'data')\n",
    "    if os.path.exists(data_folder):\n",
    "        return data_folder\n",
    "    else:  # in case that the data folder does not exists, we raise a meaningful error\n",
    "        raise RuntimeError(\"Unable to locate the data folder: \" + data_folder)\n",
    "\n",
    "print(\"The data folder is: \" + get_data_folder())"
   ]
  },
  {
   "cell_type": "markdown",
   "metadata": {},
   "source": [
    "<img align=\"left\" width=\"6%\" style=\"padding-right:10px;\" src=\"images/key.png\">\n",
    "\n",
    "We did not import the `os` module since it was already imported in the previous cell. Re-importing a module does not break your code, but makes it more verbose. "
   ]
  },
  {
   "cell_type": "markdown",
   "metadata": {},
   "source": [
    "<img align=\"left\" width=\"6%\" style=\"padding-right:10px;\" src=\"images/info.png\">\n",
    "\n",
    "If you want to know more about error handing and exceptions, read [Errors and Exceptions](https://docs.python.org/3.6/tutorial/errors.html)."
   ]
  },
  {
   "cell_type": "markdown",
   "metadata": {},
   "source": [
    "We will now retrieve all the paths to the files in the `data` sub-folder. Specifically, we will create a function `get_data_paths()` that will returns a list containing all the files in that folder, using the `os.listdir()` function."
   ]
  },
  {
   "cell_type": "code",
   "execution_count": null,
   "metadata": {},
   "outputs": [],
   "source": [
    "def get_data_paths():\n",
    "    data_paths = list()  # create a empty list that will be populate and returned\n",
    "    data_folder = get_data_folder()  # use the previously created function to get the data folder path\n",
    "    data_filenames = os.listdir(data_folder)  # call listdir() to get all the filenames in the data folder\n",
    "    \n",
    "    # Since we want to return the full file path, not only the filename, we will loop through the filenames\n",
    "    for data_filename in data_filenames:\n",
    "        data_path = os.path.join(data_folder, data_filename)  # we join the data folder path with the filename\n",
    "        data_paths.append(data_path)  # we append the resulting data file path\n",
    "    \n",
    "    return data_paths  # we return a list of all the file paths\n",
    "\n",
    "retrieved_paths = get_data_paths()\n",
    "print(\"The data paths are: \" + str(retrieved_paths))"
   ]
  },
  {
   "cell_type": "markdown",
   "metadata": {},
   "source": [
    "In the above code, we wrote a function in which:\n",
    "\n",
    "- We created and populated a list: `data_paths`\n",
    "- We reused a function that we previously created: `get_data_folder()`.\n",
    "- We used several Python functions from the `os` module: e.g., `listdir()`, `join()`.\n",
    "- We executed a `for` loop to populate the `data_paths` list.\n",
    "- We returned the populated list."
   ]
  },
  {
   "cell_type": "markdown",
   "metadata": {},
   "source": [
    "<img align=\"left\" width=\"6%\" style=\"padding-right:10px;\" src=\"images/key.png\">\n",
    "\n",
    "You don't need to remember all the names of the available Python functions. But you need to learn how to search for them. The [official Python documentation](https://docs.python.org/3.6/index.html) is usually a good place to start with."
   ]
  },
  {
   "cell_type": "markdown",
   "metadata": {},
   "source": [
    "From the [Lists of Variables notebook](002_Lists_of_Variables.ipynb), you should remember how to access a value in a list by its index. \n",
    "\n",
    "Thus, to access the file named `sal.txt`, we can use `1` as index since it is the **second** element in the list."
   ]
  },
  {
   "cell_type": "code",
   "execution_count": null,
   "metadata": {},
   "outputs": [],
   "source": [
    "sal_path = retrieved_paths[1]\n",
    "print(\"The file path with index 1 is: \" + sal_path)"
   ]
  },
  {
   "cell_type": "markdown",
   "metadata": {},
   "source": [
    "In the next section, you will learn how to open and read the content of these text files."
   ]
  },
  {
   "cell_type": "markdown",
   "metadata": {},
   "source": [
    "***"
   ]
  },
  {
   "cell_type": "markdown",
   "metadata": {},
   "source": [
    "## Read a Text File"
   ]
  },
  {
   "cell_type": "markdown",
   "metadata": {},
   "source": [
    "As discussed above, a text file is a sequence of characters stored on a permanent medium (e.g., a flash memory)."
   ]
  },
  {
   "cell_type": "markdown",
   "metadata": {},
   "source": [
    "The Python `open()` function takes the name of the file (as a parameter) and returns a file object. \n",
    "\n",
    "This object can be used to read the sequence of characters in a few ways:"
   ]
  },
  {
   "cell_type": "markdown",
   "metadata": {},
   "source": [
    "- The `readline()` method reads characters until there is a new line.  "
   ]
  },
  {
   "cell_type": "code",
   "execution_count": null,
   "metadata": {},
   "outputs": [],
   "source": [
    "sal_file = open(sal_path)\n",
    "\n",
    "sal_line = sal_file.readline()\n",
    "print(sal_line)\n",
    "\n",
    "sal_file.close()  # the close() method closes the file"
   ]
  },
  {
   "cell_type": "markdown",
   "metadata": {},
   "source": [
    "- The `read()` method reads all the characters in the file.  "
   ]
  },
  {
   "cell_type": "code",
   "execution_count": null,
   "metadata": {},
   "outputs": [],
   "source": [
    "sal_file = open(sal_path)\n",
    "\n",
    "sal_content = sal_file.read()\n",
    "print(sal_content)\n",
    "\n",
    "sal_file.close()  # the close() method closes the file"
   ]
  },
  {
   "cell_type": "markdown",
   "metadata": {},
   "source": [
    "The execution of the above code will print the 20 salinity values in the text file. Although they look like numbers, they are actually just a single `str` of 100 characters!"
   ]
  },
  {
   "cell_type": "code",
   "execution_count": null,
   "metadata": {},
   "outputs": [],
   "source": [
    "type(sal_content)"
   ]
  },
  {
   "cell_type": "code",
   "execution_count": null,
   "metadata": {},
   "outputs": [],
   "source": [
    "len(sal_content)"
   ]
  },
  {
   "cell_type": "markdown",
   "metadata": {},
   "source": [
    "<img align=\"left\" width=\"6%\" style=\"padding-right:10px;\" src=\"images/info.png\">\n",
    "\n",
    "Why the characters are 100? Each row has 4 visible characters (e.g., `30.8`) but there is also an invisible character that the text editor interprets as a new line. Thus, `(4+1) * 20 = 100` characters."
   ]
  },
  {
   "cell_type": "markdown",
   "metadata": {},
   "source": [
    "We will now write a function that reads the sequence of characters, but also split them by line (using the `str` method named `splitlines()`) and convert the result in the corresponding `float` value."
   ]
  },
  {
   "cell_type": "code",
   "execution_count": null,
   "metadata": {},
   "outputs": [],
   "source": [
    "def read_salinity_values(input_path):\n",
    "    sal_list = list()\n",
    "    \n",
    "    sal_file = open(input_path)\n",
    "    sal_content = sal_file.read()\n",
    "    sal_file.close()\n",
    "    \n",
    "    sal_lines = sal_content.splitlines()  # split the string retrieved from the file by new line\n",
    "    for sal_line in sal_lines:\n",
    "        sal_list.append(float(sal_line))  # convert the string in each line to float, then append to the list\n",
    "    \n",
    "    return sal_list\n",
    "\n",
    "sal_path = retrieved_paths[1]\n",
    "sal_values = read_salinity_values(input_path=sal_path)\n",
    "print(sal_values)"
   ]
  },
  {
   "cell_type": "markdown",
   "metadata": {},
   "source": [
    "<img align=\"left\" width=\"6%\" style=\"padding-right:10px;\" src=\"images/info.png\">\n",
    "\n",
    "There are more efficient ways to read a text file. We adopted an approach that is simple to understand for a first learner."
   ]
  },
  {
   "cell_type": "markdown",
   "metadata": {},
   "source": [
    "  "
   ]
  },
  {
   "cell_type": "markdown",
   "metadata": {
    "solution2": "hidden",
    "solution2_first": true
   },
   "source": [
    "<img align=\"left\" width=\"6%\" style=\"padding-right:10px;\" src=\"images/test.png\">\n",
    "\n",
    "Write code similar to the previous **Code** cell, but that reads the temperature values in the `temp.txt` file. *Hint: the path is at index `2` in the `retrieved_paths` list.*"
   ]
  },
  {
   "cell_type": "code",
   "execution_count": null,
   "metadata": {
    "solution2": "hidden"
   },
   "outputs": [],
   "source": [
    "def read_temperature_values(input_path):\n",
    "    temp_list = list()\n",
    "    \n",
    "    temp_file = open(input_path)\n",
    "    temp_content = temp_file.read()\n",
    "    temp_file.close()\n",
    "    \n",
    "    temp_lines = temp_content.splitlines()\n",
    "    for temp_line in temp_lines:\n",
    "        temp_list.append(float(temp_line))\n",
    "    \n",
    "    return temp_list\n",
    "\n",
    "temp_path = retrieved_paths[2]\n",
    "temp_values = read_temperature_values(input_path=temp_path)\n",
    "print(temp_values)"
   ]
  },
  {
   "cell_type": "code",
   "execution_count": null,
   "metadata": {},
   "outputs": [],
   "source": []
  },
  {
   "cell_type": "markdown",
   "metadata": {},
   "source": [
    "***"
   ]
  },
  {
   "cell_type": "markdown",
   "metadata": {},
   "source": [
    "## Write a Text File"
   ]
  },
  {
   "cell_type": "markdown",
   "metadata": {},
   "source": [
    "The first required decision is the location on where to store the text file. For this collection of notebook, we will use the `output` sub-folder that can be retrieved running the following code:"
   ]
  },
  {
   "cell_type": "code",
   "execution_count": null,
   "metadata": {},
   "outputs": [],
   "source": [
    "def get_output_folder():\n",
    "    cur_folder = os.path.abspath(os.path.curdir)\n",
    "    output_folder = os.path.join(cur_folder, 'output')\n",
    "    if path.exists(output_folder):\n",
    "        return output_folder\n",
    "    else:  # in case that the output folder does not exists, we raise a meaningful error\n",
    "        raise RuntimeError(\"Unable to locate the output folder: \" + output_folder)\n",
    "\n",
    "output_folder = get_output_folder()\n",
    "print(\"The output folder is: \" + output_folder)"
   ]
  },
  {
   "cell_type": "markdown",
   "metadata": {},
   "source": [
    "We then use `join()` function to store the output file: e.g., `depths.txt`."
   ]
  },
  {
   "cell_type": "code",
   "execution_count": null,
   "metadata": {},
   "outputs": [],
   "source": [
    "depths_path = os.path.join(output_folder, 'depths.txt')\n",
    "print(\"The output file path is: \" + depths_path)"
   ]
  },
  {
   "cell_type": "markdown",
   "metadata": {},
   "source": [
    "To write a file, you have to use the `open()` passing the mode `w` as second parameter. We put this function within a function that take a list as a second parameter and write the content into the text file."
   ]
  },
  {
   "cell_type": "code",
   "execution_count": null,
   "metadata": {},
   "outputs": [],
   "source": [
    "def write_list_to_disk(output_path, input_list):\n",
    "    \n",
    "    output_file = open(output_path, mode='w')\n",
    "    \n",
    "    for value in input_list:\n",
    "        line_content = str(value) + '\\n'  # the '\\n' is the character for the new line\n",
    "        output_file.write(line_content)\n",
    "        \n",
    "    output_file.close()\n",
    "    \n",
    "depths_path = os.path.join(output_folder, 'depths.txt')\n",
    "depths_list = [1943.2, 1232.1, 132.2, 2.42, 123.5, 1093.2]\n",
    "write_list_to_disk(output_path=depths_path, input_list=depths_list)"
   ]
  },
  {
   "cell_type": "markdown",
   "metadata": {},
   "source": [
    " "
   ]
  },
  {
   "cell_type": "markdown",
   "metadata": {},
   "source": [
    " "
   ]
  },
  {
   "cell_type": "markdown",
   "metadata": {
    "solution2": "hidden",
    "solution2_first": true
   },
   "source": [
    "<img align=\"left\" width=\"6%\" style=\"padding-right:10px;\" src=\"images/test.png\">\n",
    "\n",
    "Write the code required to visualize the content of the file written in the above *Code* cell."
   ]
  },
  {
   "cell_type": "code",
   "execution_count": null,
   "metadata": {
    "solution2": "hidden"
   },
   "outputs": [],
   "source": [
    "depths_path = os.path.join(output_folder, 'depths.txt')  # the file path is the same as before\n",
    "\n",
    "depths_file = open(depths_path)  # we don't need to add the `mode` parameter since the default value is 'r' for read\n",
    "depths_content = depths_file.read()  # we retrieve the full content of the file as a single, multi-line string\n",
    "depths_file.close()  # we close the file since we have already read its content\n",
    "\n",
    "print(depths_content)  # we print the string content of the file"
   ]
  },
  {
   "cell_type": "code",
   "execution_count": null,
   "metadata": {},
   "outputs": [],
   "source": []
  },
  {
   "cell_type": "markdown",
   "metadata": {},
   "source": [
    "***"
   ]
  },
  {
   "cell_type": "markdown",
   "metadata": {},
   "source": [
    "## Read and Write Binary Files"
   ]
  },
  {
   "cell_type": "markdown",
   "metadata": {},
   "source": [
    "<img align=\"left\" width=\"6%\" style=\"padding-right:10px;\" src=\"images/info.png\">\n",
    "\n",
    "Although Python also provides access to the content of a [binary file](https://en.wikipedia.org/wiki/Binary_file), you will need to know the format specifications on how the content is organized to properly interpret its content. This kind of task is outside the scope of this collection of notebooks."
   ]
  },
  {
   "cell_type": "markdown",
   "metadata": {},
   "source": [
    "***"
   ]
  },
  {
   "cell_type": "markdown",
   "metadata": {},
   "source": [
    "<img align=\"left\" width=\"6%\" style=\"padding-right:10px; padding-top:10px;\" src=\"images/refs.png\">\n",
    "\n",
    "## Useful References"
   ]
  },
  {
   "cell_type": "markdown",
   "metadata": {},
   "source": [
    "* [The official Python 3.6 documentation](https://docs.python.org/3.6/index.html)\n",
    "  * [The os module](https://docs.python.org/3.6/library/os.html)\n",
    "  * [Input and Output](https://docs.python.org/3.6/tutorial/inputoutput.html)\n",
    "* [Cross-platform software](https://en.wikipedia.org/wiki/Cross-platform_software)\n",
    "* [Text file](https://en.wikipedia.org/wiki/Text_file)\n",
    "* [Binary file](https://en.wikipedia.org/wiki/Binary_file)\n",
    "* [Filename extension](https://en.wikipedia.org/wiki/Filename_extension)"
   ]
  },
  {
   "cell_type": "markdown",
   "metadata": {},
   "source": [
    "<img align=\"left\" width=\"5%\" style=\"padding-right:10px;\" src=\"images/email.png\">\n",
    "\n",
    "*For issues or suggestions related to this notebook, write to: gmasetti@ccom.unh.edu*"
   ]
  },
  {
   "cell_type": "markdown",
   "metadata": {},
   "source": [
    "<!--NAVIGATION-->\n",
    "[< Dictionaries](006_Dictionaries.ipynb) | [Contents](index.ipynb) | [First Steps of a Class >](008_First_Steps_of_a_Class.ipynb)"
   ]
  }
 ],
 "metadata": {
  "kernelspec": {
   "display_name": "Python 3",
   "language": "python",
   "name": "python3"
  },
  "language_info": {
   "codemirror_mode": {
    "name": "ipython",
    "version": 3
   },
   "file_extension": ".py",
   "mimetype": "text/x-python",
   "name": "python",
   "nbconvert_exporter": "python",
   "pygments_lexer": "ipython3",
   "version": "3.6.7"
  }
 },
 "nbformat": 4,
 "nbformat_minor": 2
}
