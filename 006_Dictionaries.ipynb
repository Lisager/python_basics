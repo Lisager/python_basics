{
 "cells": [
  {
   "cell_type": "markdown",
   "metadata": {},
   "source": [
    "<a href=\"https://www.hydroffice.org/epom/\"><img src=\"images/000_000_epom_logo.png\" alt=\"ePOM\" title=\"Open ePOM home page\" align=\"center\" width=\"12%\" alt=\"Python logo\\\"></a>"
   ]
  },
  {
   "cell_type": "markdown",
   "metadata": {},
   "source": [
    "<img align=\"center\" width=\"10%\" style=\"padding-right:10px;\" src=\"images/work.png\">"
   ]
  },
  {
   "cell_type": "markdown",
   "metadata": {},
   "source": [
    "# Dictionaries"
   ]
  },
  {
   "cell_type": "markdown",
   "metadata": {},
   "source": [
    "It is time to enrich your baggage of containers with a new useful one: the `dict`.\n",
    "\n",
    "Each item in a `dict` is represented by a pair of a key and a value: e.g., mapping a [chemical symbol](https://en.wikipedia.org/wiki/Symbol_(chemistry)) to the chemical element name: e.g., `H` to `Hydrogen`."
   ]
  },
  {
   "cell_type": "markdown",
   "metadata": {},
   "source": [
    "<img align=\"left\" width=\"6%\" style=\"padding-right:10px;\" src=\"images/key.png\">\n",
    "\n",
    "A `dict` maps a set of indices, called **keys**, to a set of values."
   ]
  },
  {
   "cell_type": "markdown",
   "metadata": {},
   "source": [
    "## How to create and populate a `dict`"
   ]
  },
  {
   "cell_type": "markdown",
   "metadata": {},
   "source": [
    "To create a `dict`, you can call the `dict()` constructor. Then, you can start to add items to the `dict` by using square brackets as in the code below: "
   ]
  },
  {
   "cell_type": "code",
   "execution_count": null,
   "metadata": {},
   "outputs": [],
   "source": [
    "chem_dict = dict()\n",
    "chem_dict['H'] = 'Hydrogen'\n",
    "chem_dict['He'] = 'Helium'\n",
    "chem_dict['Li'] = 'Lithium'\n",
    "chem_dict['Be'] = 'Beryllium'\n",
    "chem_dict['B'] = 'Boron'\n",
    "\n",
    "print(chem_dict)"
   ]
  },
  {
   "cell_type": "markdown",
   "metadata": {},
   "source": [
    "Printing a `dict` will show that:\n",
    "\n",
    "- The items are between curly brackets (i.e., `{`, `}`). \n",
    "- The items are separated by a comma (e.g., `'Li' : 'Lithium'` is an item). \n",
    "- For each item, there are two parts separated by an `-`: the key on the left (e.g., `'Li'`) and the value on the right (e.g., `'Lithium'`).\n"
   ]
  },
  {
   "cell_type": "markdown",
   "metadata": {},
   "source": [
    "## A `dict` is unordered"
   ]
  },
  {
   "cell_type": "markdown",
   "metadata": {},
   "source": [
    "When you print the content of a dictionary, you may have the items presented in a order that differs from the one that you used to populate the `dict`. This is **not** an error, but a declared property of a `dict`."
   ]
  },
  {
   "cell_type": "markdown",
   "metadata": {},
   "source": [
    "<img align=\"left\" width=\"6%\" style=\"padding-right:10px;\" src=\"images/key.png\">\n",
    "\n",
    "A `dict` is an **unordered** container. The order of items is not preserved."
   ]
  },
  {
   "cell_type": "markdown",
   "metadata": {},
   "source": [
    "<img align=\"left\" width=\"6%\" style=\"padding-right:10px;\" src=\"images/info.png\">\n",
    "\n",
    "In case that you need to preserve the items order, Python provides a specialized dictionary called [`OrderedDict`](https://docs.python.org/3.6/library/collections.html?highlight=ordereddict#ordereddict-objects)."
   ]
  },
  {
   "cell_type": "markdown",
   "metadata": {},
   "source": [
    " "
   ]
  },
  {
   "cell_type": "markdown",
   "metadata": {
    "solution2": "hidden",
    "solution2_first": true
   },
   "source": [
    "<img align=\"left\" width=\"6%\" style=\"padding-right:10px;\" src=\"images/test.png\">\n",
    "\n",
    "Populate a dictionary that maps symbols to sediment type based on the [International Scale](https://en.wikipedia.org/wiki/Grain_size#International_scale) (e.g., `'Cl'` for `'Clay'`)."
   ]
  },
  {
   "cell_type": "code",
   "execution_count": null,
   "metadata": {
    "solution2": "hidden"
   },
   "outputs": [],
   "source": [
    "int_scale_dict = dict()\n",
    "int_scale_dict['LBo'] = 'Large boulder'\n",
    "int_scale_dict['Bo'] = 'Boulder'\n",
    "int_scale_dict['Co'] = 'Cobble'\n",
    "int_scale_dict['CGr'] = 'Coarse gravel'\n",
    "int_scale_dict['MGr'] = 'Medium gravel'\n",
    "int_scale_dict['FGr'] = 'Fine gravel'\n",
    "int_scale_dict['CSa'] = 'Coarse sand'\n",
    "int_scale_dict['MSa'] = 'Medium sand'\n",
    "int_scale_dict['FSa'] = 'Fine sand'\n",
    "int_scale_dict['CSi'] = 'Coarse silt'\n",
    "int_scale_dict['MSi'] = 'Medium silt'\n",
    "int_scale_dict['FsI'] = 'Fine silt'\n",
    "int_scale_dict['Cl'] = 'Clay'\n",
    "\n",
    "print(int_scale_dict)"
   ]
  },
  {
   "cell_type": "code",
   "execution_count": null,
   "metadata": {},
   "outputs": [],
   "source": [
    "int_scale_dict = dict()\n",
    "\n",
    "print(int_scale_dict)"
   ]
  },
  {
   "cell_type": "markdown",
   "metadata": {},
   "source": [
    "***"
   ]
  },
  {
   "cell_type": "markdown",
   "metadata": {},
   "source": [
    "## Comparison between `dict` and `list`"
   ]
  },
  {
   "cell_type": "markdown",
   "metadata": {},
   "source": [
    "A dictionary differs from a list for several aspects:\n",
    "\n",
    "| Topic | List  | Dictionary |\n",
    "| :-----| :---- | :--------- |\n",
    "| Brackets | Squared brackets: `[`, `]` | Curly brackets: `{`, `}` |\n",
    "| Empty Constructor | `list()`, `[]` | `dict()`, `{}` |\n",
    "| Indexing | Indices are only integers (`int`) | The indices can be of (almost) any type  |\n",
    "| Ordered | Yes (The order of items is fixed.) | No (The order of items is unpredictable.) |\n"
   ]
  },
  {
   "cell_type": "markdown",
   "metadata": {},
   "source": [
    "<img align=\"left\" width=\"6%\" style=\"padding-right:10px;\" src=\"images/info.png\">\n",
    "\n",
    "In the table above, the '(almost) any type' for `dict` indexing is because the type must be [hashable](https://docs.python.org/3.6/glossary.html). That is, it must be possible to calculate a [hash value](https://en.wikipedia.org/wiki/Hash_function) from the key which never changes during its lifetime, and can be compared to other keys."
   ]
  },
  {
   "cell_type": "markdown",
   "metadata": {},
   "source": [
    "***"
   ]
  },
  {
   "cell_type": "markdown",
   "metadata": {},
   "source": [
    "<img align=\"left\" width=\"6%\" style=\"padding-right:10px; padding-top:10px;\" src=\"images/refs.png\">\n",
    "\n",
    "## Useful References"
   ]
  },
  {
   "cell_type": "markdown",
   "metadata": {},
   "source": [
    "* [The official Python 3.6 documentation](https://docs.python.org/3.6/index.html)\n",
    "  * [Glossary](https://docs.python.org/3.6/glossary.html)\n",
    "  * [Mapping Types - dict](https://docs.python.org/3.6/library/stdtypes.html#mapping-types-dict)\n",
    "  * [Collections - OrderedDict](https://docs.python.org/3.6/library/collections.html?highlight=ordereddict#ordereddict-objects)"
   ]
  },
  {
   "cell_type": "markdown",
   "metadata": {},
   "source": [
    "<img align=\"left\" width=\"5%\" style=\"padding-right:10px;\" src=\"images/email.png\">\n",
    "\n",
    "*For issues or suggestions related to this notebook, write to: gmasetti@ccom.unh.edu*"
   ]
  },
  {
   "cell_type": "markdown",
   "metadata": {},
   "source": [
    "<!--NAVIGATION-->\n",
    "[< Write Your Own Functions](005_Write_Your_Own_Functions.ipynb) | [Contents](index.ipynb) | [Read and Write Text Files >](007_Read_and_Write_Text_Files.ipynb)"
   ]
  }
 ],
 "metadata": {
  "kernelspec": {
   "display_name": "Python 3",
   "language": "python",
   "name": "python3"
  },
  "language_info": {
   "codemirror_mode": {
    "name": "ipython",
    "version": 3
   },
   "file_extension": ".py",
   "mimetype": "text/x-python",
   "name": "python",
   "nbconvert_exporter": "python",
   "pygments_lexer": "ipython3",
   "version": "3.6.7"
  }
 },
 "nbformat": 4,
 "nbformat_minor": 2
}
