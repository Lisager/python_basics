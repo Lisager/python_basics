{
 "cells": [
  {
   "cell_type": "markdown",
   "metadata": {},
   "source": [
    "<a href=\"https://www.hydroffice.org/epom/\"><img src=\"images/000_000_epom_logo.png\" alt=\"ePOM\" title=\"Open ePOM home page\" align=\"center\" width=\"12%\" alt=\"Python logo\\\"></a>"
   ]
  },
  {
   "cell_type": "markdown",
   "metadata": {},
   "source": [
    "<a href=\"https://piazza.com/e-learning_python_for_ocean_mapping/summer2019/om000/home\"><img src=\"images/help.png\" alt=\"ePOM\" title=\"Ask questions on Piazza.com\" align=\"right\" width=\"10%\" alt=\"Piazza.com\\\"></a>\n",
    "# Dictionaries"
   ]
  },
  {
   "cell_type": "markdown",
   "metadata": {},
   "source": [
    "It is time to enrich your baggage of Python containers with a new useful one: the `dict`.\n",
    "\n",
    "Each item in a `dict` is represented by a pair of a key and the corresponding value. \n",
    "\n",
    "For example, a `dict` can be used to map a [chemical symbol](https://en.wikipedia.org/wiki/Symbol_(chemistry)) to the corresponding element name. Thus, a possible pair would be `H` as symbol and `Hydrogen` as element name."
   ]
  },
  {
   "cell_type": "markdown",
   "metadata": {},
   "source": [
    "<img align=\"left\" width=\"6%\" style=\"padding-right:10px;\" src=\"images/key.png\">\n",
    "\n",
    "A `dict` maps a set of indices, called **keys**, to a set of **values**."
   ]
  },
  {
   "cell_type": "markdown",
   "metadata": {},
   "source": [
    "## How to create and populate a `dict`"
   ]
  },
  {
   "cell_type": "markdown",
   "metadata": {},
   "source": [
    "Similarly to [the creation approach #2 for lists](002_Lists_of_Variables.ipynb#Creation-of-a-List:-Approach-#2), you may create a empty dictionary by calling its constructor: `dict()`. Items are then added by using square brackets and assignments like in the code below: "
   ]
  },
  {
   "cell_type": "code",
   "execution_count": null,
   "metadata": {},
   "outputs": [],
   "source": [
    "chem_dict = dict()\n",
    "chem_dict[\"H\"] = \"Hydrogen\"\n",
    "chem_dict[\"He\"] = \"Helium\"\n",
    "chem_dict[\"Li\"] = \"Lithium\"\n",
    "chem_dict[\"Be\"] = \"Beryllium\"\n",
    "chem_dict[\"B\"] = \"Boron\"\n",
    "\n",
    "print(chem_dict)"
   ]
  },
  {
   "cell_type": "markdown",
   "metadata": {},
   "source": [
    "Printing a `dict` will show that:\n",
    "\n",
    "- The items are between curly brackets (i.e., `{`, `}`). \n",
    "- The items are separated by a comma (e.g., `\"Li\": \"Lithium\"` is an item). \n",
    "- For each item, there are two parts separated by an `-`: the key on the left (e.g., `\"Li\"`) and the value on the right (e.g., `\"Lithium\"`).\n"
   ]
  },
  {
   "cell_type": "markdown",
   "metadata": {},
   "source": [
    "An alternative way to create a dictionary with the same content as above is to use something similar to what was printed:"
   ]
  },
  {
   "cell_type": "code",
   "execution_count": null,
   "metadata": {},
   "outputs": [],
   "source": [
    "chem_dict = {\"H\": \"Hydrogen\", \"He\": \"Helium\", \"Li\": \"Lithium\", \"Be\": \"Beryllium\", \"B\": \"Boron\"}\n",
    "\n",
    "print(chem_dict)"
   ]
  },
  {
   "cell_type": "markdown",
   "metadata": {},
   "source": [
    "The above method creates a `dict` and its items with a single statement. It is similar to [approach #1 for lists](002_Lists_of_Variables.ipynb#Creation-of-a-List:-Approach-#1)."
   ]
  },
  {
   "cell_type": "markdown",
   "metadata": {},
   "source": [
    "The follow example uses the same code, but splits the dictionary creation statement into a few rows for readability:"
   ]
  },
  {
   "cell_type": "code",
   "execution_count": null,
   "metadata": {},
   "outputs": [],
   "source": [
    "chem_dict = {\n",
    "    \"H\": \"Hydrogen\",\n",
    "    \"He\": \"Helium\",\n",
    "    \"Li\": \"Lithium\",\n",
    "    \"Be\": \"Beryllium\",\n",
    "    \"B\": \"Boron\"\n",
    "}\n",
    "\n",
    "print(chem_dict)"
   ]
  },
  {
   "cell_type": "markdown",
   "metadata": {},
   "source": [
    "<img align=\"left\" width=\"6%\" style=\"padding-right:10px;\" src=\"images/info.png\">\n",
    "\n",
    "You may have noticed that the `str` variables in the above `chem_dict` are printed within `'` rather  than `\"`. This is an alternative and valid way to define strings in Python. However, mixing `'` and `\"` in the same string is a Python error. For consistency, we always use `\"`."
   ]
  },
  {
   "cell_type": "markdown",
   "metadata": {},
   "source": [
    "## A `dict` is unordered"
   ]
  },
  {
   "cell_type": "markdown",
   "metadata": {},
   "source": [
    "When you print the content of a dictionary, you may have the items presented in a order that differs from the one that you used to populate the `dict`. This is **not** an error, but a specific property of a `dict`."
   ]
  },
  {
   "cell_type": "markdown",
   "metadata": {},
   "source": [
    "<img align=\"left\" width=\"6%\" style=\"padding-right:10px;\" src=\"images/key.png\">\n",
    "\n",
    "A `dict` is an **unordered** container. The order of items insertion is not preserved."
   ]
  },
  {
   "cell_type": "markdown",
   "metadata": {},
   "source": [
    "<img align=\"left\" width=\"6%\" style=\"padding-right:10px;\" src=\"images/info.png\">\n",
    "\n",
    "In case that you need to preserve the items order, Python provides a specialized dictionary called [`OrderedDict`](https://docs.python.org/3.6/library/collections.html?highlight=ordereddict#ordereddict-objects)."
   ]
  },
  {
   "cell_type": "markdown",
   "metadata": {},
   "source": [
    " "
   ]
  },
  {
   "cell_type": "markdown",
   "metadata": {
    "solution2": "hidden",
    "solution2_first": true
   },
   "source": [
    "<img align=\"left\" width=\"6%\" style=\"padding-right:10px;\" src=\"images/test.png\">\n",
    "\n",
    "Populate a dictionary that maps symbols to sediment type based on the [International Scale](https://en.wikipedia.org/wiki/Grain_size#International_scale) (e.g., `\"Cl\"` for `\"Clay\"`)."
   ]
  },
  {
   "cell_type": "code",
   "execution_count": null,
   "metadata": {
    "solution2": "hidden"
   },
   "outputs": [],
   "source": [
    "int_scale_dict = dict()\n",
    "int_scale_dict[\"LBo\"] = \"Large boulder\"\n",
    "int_scale_dict[\"Bo\"] = \"Boulder\"\n",
    "int_scale_dict[\"Co\"] = \"Cobble\"\n",
    "int_scale_dict[\"CGr\"] = \"Coarse gravel\"\n",
    "int_scale_dict[\"MGr\"] = \"Medium gravel\"\n",
    "int_scale_dict[\"FGr\"] = \"Fine gravel\"\n",
    "int_scale_dict[\"CSa\"] = \"Coarse sand\"\n",
    "int_scale_dict[\"MSa\"] = \"Medium sand\"\n",
    "int_scale_dict[\"FSa\"] = \"Fine sand\"\n",
    "int_scale_dict[\"CSi\"] = \"Coarse silt\"\n",
    "int_scale_dict[\"MSi\"] = \"Medium silt\"\n",
    "int_scale_dict[\"FsI\"] = \"Fine silt\"\n",
    "int_scale_dict[\"Cl\"] = \"Clay\"\n",
    "\n",
    "print(int_scale_dict)"
   ]
  },
  {
   "cell_type": "code",
   "execution_count": null,
   "metadata": {},
   "outputs": [],
   "source": [
    "int_scale_dict = dict()\n",
    "\n",
    "print(int_scale_dict)"
   ]
  },
  {
   "cell_type": "markdown",
   "metadata": {},
   "source": [
    "***"
   ]
  },
  {
   "cell_type": "markdown",
   "metadata": {},
   "source": [
    "## Comparison between `dict` and `list`"
   ]
  },
  {
   "cell_type": "markdown",
   "metadata": {},
   "source": [
    "A dictionary differs from a [list](002_Lists_of_Variables.ipynb) for several aspects:\n",
    "\n",
    "| Topic | List  | Dictionary |\n",
    "| :-----| :---- | :--------- |\n",
    "| Brackets | Squared brackets: `[`, `]` | Curly brackets: `{`, `}` |\n",
    "| Empty Constructor | `list()`, `[]` | `dict()`, `{}` |\n",
    "| Indexing | Indices are only integers (`int`) | The indices can be of (almost) any type  |\n",
    "| Ordered | Yes (The order of items is fixed.) | No (The order of items is unpredictable.) |\n"
   ]
  },
  {
   "cell_type": "markdown",
   "metadata": {},
   "source": [
    "<img align=\"left\" width=\"6%\" style=\"padding-right:10px;\" src=\"images/info.png\">\n",
    "\n",
    "In the table above, the *\"(almost) any type\"* for `dict` indexing is because the type must be [hashable](https://docs.python.org/3.6/glossary.html). That is, it must be possible to calculate a [hash value](https://en.wikipedia.org/wiki/Hash_function) from the key which never changes during its lifetime, and can be compared to other keys."
   ]
  },
  {
   "cell_type": "markdown",
   "metadata": {},
   "source": [
    "***"
   ]
  },
  {
   "cell_type": "markdown",
   "metadata": {},
   "source": [
    "# What is Metadata?"
   ]
  },
  {
   "cell_type": "markdown",
   "metadata": {},
   "source": [
    "In Ocean Mapping you will often encounter the concept of [metadata](https://en.wikipedia.org/wiki/Metadata). "
   ]
  },
  {
   "cell_type": "markdown",
   "metadata": {},
   "source": [
    "<img align=\"left\" width=\"6%\" style=\"padding-right:10px;\" src=\"images/key.png\">\n",
    "\n",
    "**Metadata** are a set of data that gives information about other data."
   ]
  },
  {
   "cell_type": "markdown",
   "metadata": {},
   "source": [
    "One of the most common use of metadata is to help users discover and identify data resources. \n",
    "\n",
    "There are different [metadata standards](https://en.wikipedia.org/wiki/Metadata#Standards) for each different field of study, and ocean mapping uses many of these standards. However, for the task of this notebook, we will not explore them. You will get familiar with these standards during your future Ocean Mapping courses. "
   ]
  },
  {
   "cell_type": "markdown",
   "metadata": {},
   "source": [
    "***"
   ]
  },
  {
   "cell_type": "markdown",
   "metadata": {},
   "source": [
    "## A `dict` as a Metadata Container"
   ]
  },
  {
   "cell_type": "markdown",
   "metadata": {},
   "source": [
    "We will now explore the use of a `dict` as a [metadata](https://en.wikipedia.org/wiki/Metadata) container.  \n",
    "\n",
    "Following our previous examples of experiments collecting water salinity and temperature values, we will use a `dict` to store metadata such as:\n",
    "\n",
    "- The author of the measures (`\"first_name\"` and `\"last_name\"`).\n",
    "- The location where the measurements took place (`\"latitude\"` and `\"longitude\"`).\n",
    "- The time frame when the measures happened (`\"start_timestamp\"` and `\"end_timestamp\"`)."
   ]
  },
  {
   "cell_type": "markdown",
   "metadata": {},
   "source": [
    "Thus, a complete set of metadata will be represented by a `dict` containing the following six keys (with the corresponding value type):\n",
    "\n",
    "- `\"first_name\"` &#x279C; `str` type\n",
    "- `\"last_name\"` &#x279C; `str` type\n",
    "- `\"latitude\"` &#x279C; `float` type\n",
    "- `\"longitude\"` &#x279C; `float` type\n",
    "- `\"start_timestamp\"` &#x279C; `datetime` type\n",
    "- `\"end_timestamp\"` &#x279C; `datetime` type"
   ]
  },
  {
   "cell_type": "markdown",
   "metadata": {},
   "source": [
    "And yes, you are correct: this is the first time that we use the [`datetime`](https://docs.python.org/3.6/library/datetime.html?#module-datetime) type! "
   ]
  },
  {
   "cell_type": "markdown",
   "metadata": {},
   "source": [
    "<img align=\"left\" width=\"6%\" style=\"padding-right:10px;\" src=\"images/key.png\">\n",
    "\n",
    "A variable of `datetime` type contains all the information from both a date and a time. This is of key importance in Ocean Mapping as integration of data is usually done on a time basis. "
   ]
  },
  {
   "cell_type": "markdown",
   "metadata": {},
   "source": [
    "An entire Ocean Mapping course will be focused on the integration of data from various sensors used to map the seafloor."
   ]
  },
  {
   "cell_type": "markdown",
   "metadata": {},
   "source": [
    "As you can read from the [Python documentation](https://docs.python.org/3.6/library/datetime.html?#datetime-objects), the `datetime` constructor is part of the `datetime` module (they have both the same name!) and takes several parameters: \n",
    "\n",
    "- `datetime(year, month, day, hour=0, minute=0, second=0, microsecond=0, tzinfo=None, *, fold=0)` "
   ]
  },
  {
   "cell_type": "markdown",
   "metadata": {},
   "source": [
    "For the aims of this notebook, you can just ignore all the parameters after the first six. In fact, we will call the `datetime` constructor with only 6 values (from `year` to `second`)."
   ]
  },
  {
   "cell_type": "code",
   "execution_count": null,
   "metadata": {},
   "outputs": [],
   "source": [
    "from datetime import datetime\n",
    "\n",
    "begin_timestamp = datetime(2019, 2, 22, 12, 32, 40)\n",
    "print(str(begin_timestamp))"
   ]
  },
  {
   "cell_type": "markdown",
   "metadata": {},
   "source": [
    "**How can the above code actually work?** It works because the parameters after the first 3 (e.g., `hour=0`) have a **default value** assigned to them (the `=0` in this specific example). This implies that, if you do *not* pass values for those parameters, Python will assign them those defined default values. "
   ]
  },
  {
   "cell_type": "markdown",
   "metadata": {},
   "source": [
    "We can now write our `metadata`:"
   ]
  },
  {
   "cell_type": "code",
   "execution_count": null,
   "metadata": {},
   "outputs": [],
   "source": [
    "metadata = dict()\n",
    "metadata[\"first_name\"] = \"John\"\n",
    "metadata[\"last_name\"] = \"Doe\"\n",
    "metadata[\"latitude\"] = 43.135555\n",
    "metadata[\"longitude\"] = -70.939534\n",
    "metadata[\"start_timestamp\"] = datetime(2019, 2, 22, 12, 32, 40)\n",
    "metadata[\"end_timestamp\"] = datetime(2019, 2, 22, 12, 34, 14)\n",
    "\n",
    "print(metadata)"
   ]
  },
  {
   "cell_type": "markdown",
   "metadata": {},
   "source": [
    " "
   ]
  },
  {
   "cell_type": "markdown",
   "metadata": {
    "solution2": "hidden",
    "solution2_first": true
   },
   "source": [
    "<img align=\"left\" width=\"6%\" style=\"padding-right:10px;\" src=\"images/test.png\">\n",
    "\n",
    "Populate and print a `metadata` dictionary containing the following three keys: your `\"username\"`, the `\"begin_time\"` and the `\"end_time\"` for the execution of this exercise."
   ]
  },
  {
   "cell_type": "code",
   "execution_count": null,
   "metadata": {
    "solution2": "hidden"
   },
   "outputs": [],
   "source": [
    "metadata = dict()\n",
    "metadata[\"username\"] = \"jdoe\"\n",
    "metadata[\"start_timestamp\"] = datetime(2019, 2, 22, 12, 34, 20)\n",
    "metadata[\"end_timestamp\"] = datetime(2019, 2, 22, 12, 34, 21)\n",
    "\n",
    "print(metadata)"
   ]
  },
  {
   "cell_type": "code",
   "execution_count": null,
   "metadata": {},
   "outputs": [],
   "source": []
  },
  {
   "cell_type": "markdown",
   "metadata": {},
   "source": [
    "***"
   ]
  },
  {
   "cell_type": "markdown",
   "metadata": {},
   "source": [
    "# More on String Formatting"
   ]
  },
  {
   "cell_type": "markdown",
   "metadata": {},
   "source": [
    "In the last section of this notebook, we will explore a different mechanism for printing (**string formatting**) a value in Python."
   ]
  },
  {
   "cell_type": "markdown",
   "metadata": {},
   "source": [
    "At this moment, you know how to print a value with `str` type:"
   ]
  },
  {
   "cell_type": "code",
   "execution_count": null,
   "metadata": {},
   "outputs": [],
   "source": [
    "metadata = dict()\n",
    "metadata[\"first_name\"] = \"John\"\n",
    "\n",
    "print(\"The first name is: \" + metadata[\"first_name\"])"
   ]
  },
  {
   "cell_type": "markdown",
   "metadata": {},
   "source": [
    "You also know that `str()` can be used to **type-cast** values that are different from `str`:"
   ]
  },
  {
   "cell_type": "code",
   "execution_count": null,
   "metadata": {},
   "outputs": [],
   "source": [
    "metadata = dict()\n",
    "metadata[\"latitude\"] = 43.135555\n",
    "metadata[\"longitude\"] = -70.939534\n",
    "metadata[\"start_timestamp\"] = datetime(2019, 2, 22, 12, 32, 40)\n",
    "\n",
    "print(\"The position is: \" + str(metadata[\"latitude\"]) + \", \" + str(metadata[\"longitude\"]))\n",
    "print(\"Start time: \" + str(metadata[\"start_timestamp\"]))"
   ]
  },
  {
   "cell_type": "markdown",
   "metadata": {},
   "source": [
    "We now introduce a new method that achieves the same result by using the `%` modulo operator.\n",
    "\n",
    "These are a couple of examples of its usage:"
   ]
  },
  {
   "cell_type": "code",
   "execution_count": null,
   "metadata": {},
   "outputs": [],
   "source": [
    "metadata = dict()\n",
    "metadata[\"first_name\"] = \"John\"\n",
    "\n",
    "print(\"The first name is: %s\" % (metadata[\"first_name\"], ))"
   ]
  },
  {
   "cell_type": "code",
   "execution_count": null,
   "metadata": {},
   "outputs": [],
   "source": [
    "metadata = dict()\n",
    "metadata[\"latitude\"] = 43.135558\n",
    "metadata[\"longitude\"] = -70.939534\n",
    "metadata[\"start_timestamp\"] = datetime(2019, 2, 22, 12, 32, 40)\n",
    "\n",
    "print(\"The position is: %s, %s\" % (metadata[\"latitude\"], metadata[\"longitude\"]))\n",
    "print(\"Start time: %s\" % (metadata[\"start_timestamp\"], ))"
   ]
  },
  {
   "cell_type": "markdown",
   "metadata": {},
   "source": [
    "By examining the above examples, you will notice that: \n",
    "\n",
    "* The `%s` is used as a **placeholder** in the string containing the message. \n",
    "* The message string is followed by the `%` operator, then by one or more variables enclosed in rounded brackets."
   ]
  },
  {
   "cell_type": "markdown",
   "metadata": {},
   "source": [
    "<img align=\"left\" width=\"6%\" style=\"padding-right:10px;\" src=\"images/info.png\">\n",
    "\n",
    "In the above code, the values after the `%` operator that are inside the square brackets create a [`tuple`](https://docs.python.org/3.6/library/stdtypes.html?#tuples). <br>\n",
    "A `tuple` is a Python container that represents an immutable sequence (thus, you cannot change the content of a `tuple`)."
   ]
  },
  {
   "cell_type": "markdown",
   "metadata": {},
   "source": [
    "String formatting using the `%` operator provides [additional printing options](https://docs.python.org/3.6/library/stdtypes.html#printf-style-string-formatting). One of these options is to define how many decimal digits to print for a `float` value. \n",
    "\n",
    "For instance, by using `%.4f` as a placeholder, Python will print **only** the first four decimal digits: "
   ]
  },
  {
   "cell_type": "code",
   "execution_count": null,
   "metadata": {},
   "outputs": [],
   "source": [
    "metadata = dict()\n",
    "metadata[\"latitude\"] = 43.135558\n",
    "metadata[\"longitude\"] = -70.939534\n",
    "\n",
    "print(\"The position is: %.4f, %.4f\" % (metadata[\"latitude\"], metadata[\"longitude\"]))"
   ]
  },
  {
   "cell_type": "markdown",
   "metadata": {},
   "source": [
    "  "
   ]
  },
  {
   "cell_type": "markdown",
   "metadata": {
    "solution2": "hidden",
    "solution2_first": true
   },
   "source": [
    "<img align=\"left\" width=\"6%\" style=\"padding-right:10px;\" src=\"images/test.png\">\n",
    "\n",
    "Print the depth value in the `metadata` dictionary with a centimetric accuracy:"
   ]
  },
  {
   "cell_type": "code",
   "execution_count": null,
   "metadata": {
    "solution2": "hidden"
   },
   "outputs": [],
   "source": [
    "metadata = dict()\n",
    "metadata[\"depth\"] = 129.121\n",
    "\n",
    "print(\"The depth is %.2f m.\" % (metadata[\"depth\"]))"
   ]
  },
  {
   "cell_type": "code",
   "execution_count": null,
   "metadata": {},
   "outputs": [],
   "source": [
    "metadata = dict()\n",
    "metadata[\"depth\"] = 129.121"
   ]
  },
  {
   "cell_type": "markdown",
   "metadata": {},
   "source": [
    "***"
   ]
  },
  {
   "cell_type": "markdown",
   "metadata": {},
   "source": [
    "<img align=\"left\" width=\"6%\" style=\"padding-right:10px; padding-top:10px;\" src=\"images/refs.png\">\n",
    "\n",
    "## Useful References"
   ]
  },
  {
   "cell_type": "markdown",
   "metadata": {},
   "source": [
    "* [The official Python 3.6 documentation](https://docs.python.org/3.6/index.html)\n",
    "  * [Glossary](https://docs.python.org/3.6/glossary.html)\n",
    "  * [Mapping Types - dict](https://docs.python.org/3.6/library/stdtypes.html#mapping-types-dict)\n",
    "  * [Collections - OrderedDict](https://docs.python.org/3.6/library/collections.html?highlight=ordereddict#ordereddict-objects)\n",
    "  * [`datetime`](https://docs.python.org/3.6/library/datetime.html?#module-datetime) \n",
    "  * [`tuple`](https://docs.python.org/3.6/library/stdtypes.html?#tuples)\n",
    "* [Hash function](https://en.wikipedia.org/wiki/Hash_function)\n",
    "* [Metadata](https://en.wikipedia.org/wiki/Metadata)"
   ]
  },
  {
   "cell_type": "markdown",
   "metadata": {},
   "source": [
    "<img align=\"left\" width=\"5%\" style=\"padding-right:10px;\" src=\"images/email.png\">\n",
    "\n",
    "*For issues or suggestions related to this notebook, write to: epom@ccom.unh.edu*"
   ]
  },
  {
   "cell_type": "markdown",
   "metadata": {},
   "source": [
    "<!--NAVIGATION-->\n",
    "[< Write Your Own Functions](005_Write_Your_Own_Functions.ipynb) | [Contents](index.ipynb) | [Read and Write Text Files >](007_Read_and_Write_Text_Files.ipynb)"
   ]
  }
 ],
 "metadata": {
  "kernelspec": {
   "display_name": "Python 3",
   "language": "python",
   "name": "python3"
  },
  "language_info": {
   "codemirror_mode": {
    "name": "ipython",
    "version": 3
   },
   "file_extension": ".py",
   "mimetype": "text/x-python",
   "name": "python",
   "nbconvert_exporter": "python",
   "pygments_lexer": "ipython3",
   "version": "3.6.7"
  }
 },
 "nbformat": 4,
 "nbformat_minor": 2
}
