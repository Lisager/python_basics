{
 "cells": [
  {
   "cell_type": "markdown",
   "metadata": {},
   "source": [
    "<a href=\"https://www.hydroffice.org/epom/\"><img src=\"images/000_000_epom_logo.png\" alt=\"ePOM\" title=\"Open ePOM home page\" align=\"center\" width=\"12%\" alt=\"Python logo\\\"></a>"
   ]
  },
  {
   "cell_type": "markdown",
   "metadata": {},
   "source": [
    "<img align=\"center\" width=\"10%\" style=\"padding-right:10px;\" src=\"images/work.png\">"
   ]
  },
  {
   "cell_type": "markdown",
   "metadata": {},
   "source": [
    "# First Steps of a Class"
   ]
  },
  {
   "cell_type": "markdown",
   "metadata": {},
   "source": [
    "It is time to learn how to define your own type! \n",
    "\n",
    "We used several built-in types (e.g., `int`, `str`, `list`), thus you should have some familiarity with some of the concepts that we are going to introduce.  "
   ]
  },
  {
   "cell_type": "markdown",
   "metadata": {},
   "source": [
    "Creating your own type is a bit more complicated than writing functions, but it comes with big advantages that will be apparent soon."
   ]
  },
  {
   "cell_type": "markdown",
   "metadata": {},
   "source": [
    "<img align=\"left\" width=\"6%\" style=\"padding-right:10px;\" src=\"images/key.png\">\n",
    "\n",
    "A user-defined type is called a **class**."
   ]
  },
  {
   "cell_type": "markdown",
   "metadata": {},
   "source": [
    "## Class Definition"
   ]
  },
  {
   "cell_type": "markdown",
   "metadata": {},
   "source": [
    "We will learn how to create a class by example. \n",
    "\n",
    "Assuming that we want to create a class that is able to read and write the content of the `sal.txt` file cited in the [previous notebook](007_Read_and_Write_Text_Files.ipynb). \n",
    "\n",
    "We decide to call this new class `SalinityManager`. This is what we need to define such a class:"
   ]
  },
  {
   "cell_type": "code",
   "execution_count": 3,
   "metadata": {},
   "outputs": [],
   "source": [
    "class SalinityManager:\n",
    "    \"\"\"A file manager for salinity\"\"\""
   ]
  },
  {
   "cell_type": "markdown",
   "metadata": {},
   "source": [
    "The second line of the above code is a `docstring` that provides a brief description of the class.\n",
    "\n",
    "We can create an instance of the `SalinityManager` class, by calling it with `()` at the end:"
   ]
  },
  {
   "cell_type": "code",
   "execution_count": 15,
   "metadata": {},
   "outputs": [],
   "source": [
    "sal_mng = SalinityManager()"
   ]
  },
  {
   "cell_type": "markdown",
   "metadata": {},
   "source": [
    "<img align=\"left\" width=\"6%\" style=\"padding-right:10px;\" src=\"images/key.png\">\n",
    "\n",
    "The class object is like a factory for creating new objects of a given type."
   ]
  },
  {
   "cell_type": "code",
   "execution_count": 8,
   "metadata": {},
   "outputs": [
    {
     "data": {
      "text/plain": [
       "__main__.SalinityManager"
      ]
     },
     "execution_count": 8,
     "metadata": {},
     "output_type": "execute_result"
    }
   ],
   "source": [
    "type(sal_mng)"
   ]
  },
  {
   "cell_type": "markdown",
   "metadata": {},
   "source": [
    "Because the `SalinityManager` class is defined in this main notebook, the full name of the type is `__main__.SalinityManager`"
   ]
  },
  {
   "cell_type": "markdown",
   "metadata": {},
   "source": [
    "At the moment, this new defined class is very boring. We will soon start to populate it with a number of useful **methods** and **attributes**."
   ]
  },
  {
   "cell_type": "markdown",
   "metadata": {},
   "source": [
    "## Class Initialization"
   ]
  },
  {
   "cell_type": "markdown",
   "metadata": {},
   "source": [
    "The class initialization happens within a special method called `__init__(self)`. \n",
    "\n",
    "In this method, you can declare all the **class attributes**, that is variables that belong to each object instantiated using the defined class."
   ]
  },
  {
   "cell_type": "code",
   "execution_count": 17,
   "metadata": {},
   "outputs": [],
   "source": [
    "class SalinityManager:\n",
    "    \"\"\"A file manager for salinity\"\"\"\n",
    "    \n",
    "    def __init__(self):\n",
    "        self.sal_values = list()"
   ]
  },
  {
   "cell_type": "markdown",
   "metadata": {},
   "source": [
    "In the above code, we declared that the class has an attribute named `sal_values` and that it will be initialized as an empty list.\n",
    "\n",
    "You can access the class attributes by using the `.` operator:"
   ]
  },
  {
   "cell_type": "code",
   "execution_count": 19,
   "metadata": {},
   "outputs": [
    {
     "name": "stdout",
     "output_type": "stream",
     "text": [
      "[]\n"
     ]
    }
   ],
   "source": [
    "sal_mng = SalinityManager()\n",
    "print(sal_mng.sal_values)"
   ]
  },
  {
   "cell_type": "markdown",
   "metadata": {},
   "source": [
    "You can also pass some parameters to the class constructor. Those parameters are the parameters of the `__init__()` method:"
   ]
  },
  {
   "cell_type": "code",
   "execution_count": 20,
   "metadata": {},
   "outputs": [],
   "source": [
    "class SalinityManager:\n",
    "    \"\"\"A file manager for salinity\"\"\"\n",
    "    \n",
    "    def __init__(self, data_path):\n",
    "        self.sal_values = list()\n",
    "        self.sal_path = data_path\n"
   ]
  },
  {
   "cell_type": "markdown",
   "metadata": {},
   "source": [
    "For being able to pass a valid `data_path` parameter, we will use some helper functions from the previous notebook:  "
   ]
  },
  {
   "cell_type": "code",
   "execution_count": 26,
   "metadata": {},
   "outputs": [
    {
     "name": "stdout",
     "output_type": "stream",
     "text": [
      "The salinity file path is: C:\\code\\hyo2\\epom\\python_basics\\data\\sal.txt\n"
     ]
    }
   ],
   "source": [
    "import os\n",
    "\n",
    "def get_data_folder():\n",
    "    cur_folder = os.path.abspath(os.path.curdir)\n",
    "    data_folder = os.path.join(cur_folder, 'data')\n",
    "    if os.path.exists(data_folder):\n",
    "        return data_folder\n",
    "    else:  # in case that the data folder does not exists, we raise a meaningful error\n",
    "        raise RuntimeError(\"Unable to locate the data folder: \" + data_folder)\n",
    "        \n",
    "def get_data_paths():\n",
    "    data_paths = list()  # create a empty list that will be populate and returned\n",
    "    data_folder = get_data_folder()  # use the previously created function to get the data folder path\n",
    "    data_filenames = os.listdir(data_folder)  # call listdir() to get all the filenames in the data folder\n",
    "    \n",
    "    # Since we want to return the full file path, not only the filename, we will loop through the filenames\n",
    "    for data_filename in data_filenames:\n",
    "        data_path = os.path.join(data_folder, data_filename)  # we join the data folder path with the filename\n",
    "        data_paths.append(data_path)  # we append the resulting data file path\n",
    "    \n",
    "    return data_paths  # we return a list of all the file paths\n",
    "\n",
    "retrieved_paths = get_data_paths()\n",
    "input_path = retrieved_paths[1]\n",
    "print(\"The salinity file path is: \" + input_path)"
   ]
  },
  {
   "cell_type": "markdown",
   "metadata": {},
   "source": [
    "Now we instantiate the class and, at the same time, we pass the salinity file path as parameter:"
   ]
  },
  {
   "cell_type": "code",
   "execution_count": 27,
   "metadata": {},
   "outputs": [
    {
     "name": "stdout",
     "output_type": "stream",
     "text": [
      "C:\\code\\hyo2\\epom\\python_basics\\data\\sal.txt\n"
     ]
    }
   ],
   "source": [
    "sal_mng = SalinityManager(data_path=input_path)\n",
    "print(sal_mng.sal_path)"
   ]
  },
  {
   "cell_type": "markdown",
   "metadata": {},
   "source": [
    "But what happens if we don't pass a value for the `data_path` parameter?"
   ]
  },
  {
   "cell_type": "code",
   "execution_count": 28,
   "metadata": {},
   "outputs": [
    {
     "ename": "TypeError",
     "evalue": "__init__() missing 1 required positional argument: 'data_path'",
     "output_type": "error",
     "traceback": [
      "\u001b[1;31m---------------------------------------------------------------------------\u001b[0m",
      "\u001b[1;31mTypeError\u001b[0m                                 Traceback (most recent call last)",
      "\u001b[1;32m<ipython-input-28-a9942f962756>\u001b[0m in \u001b[0;36m<module>\u001b[1;34m\u001b[0m\n\u001b[1;32m----> 1\u001b[1;33m \u001b[0msal_mng\u001b[0m \u001b[1;33m=\u001b[0m \u001b[0mSalinityManager\u001b[0m\u001b[1;33m(\u001b[0m\u001b[1;33m)\u001b[0m\u001b[1;33m\u001b[0m\u001b[1;33m\u001b[0m\u001b[0m\n\u001b[0m",
      "\u001b[1;31mTypeError\u001b[0m: __init__() missing 1 required positional argument: 'data_path'"
     ]
    }
   ],
   "source": [
    "sal_mng = SalinityManager()"
   ]
  },
  {
   "cell_type": "markdown",
   "metadata": {},
   "source": [
    "Read the above error message. It should be enough clear about what Python is complaining about!"
   ]
  },
  {
   "cell_type": "markdown",
   "metadata": {},
   "source": [
    "## Class Methods"
   ]
  },
  {
   "cell_type": "markdown",
   "metadata": {},
   "source": []
  },
  {
   "cell_type": "markdown",
   "metadata": {},
   "source": [
    " "
   ]
  },
  {
   "cell_type": "markdown",
   "metadata": {
    "solution2": "hidden",
    "solution2_first": true
   },
   "source": [
    "<img align=\"left\" width=\"6%\" style=\"padding-right:10px;\" src=\"images/test.png\">\n",
    "\n",
    "Write a class for a `TemperatureManager` with functionalities similar to the above `SalinityManager`. Then, add the code to demonstrate its functionalities."
   ]
  },
  {
   "cell_type": "code",
   "execution_count": 14,
   "metadata": {
    "solution2": "hidden"
   },
   "outputs": [
    {
     "name": "stdout",
     "output_type": "stream",
     "text": [
      "It is an instance of: <class '__main__.TemperatureManager'>\n"
     ]
    }
   ],
   "source": [
    "class TemperatureManager:\n",
    "    \"\"\"A file manager for temperature\"\"\"\n",
    "    \n",
    "temp_mng = TemperatureManager()\n",
    "print(\"It is an instance of: \" + str(type(temp_mng)))"
   ]
  },
  {
   "cell_type": "code",
   "execution_count": null,
   "metadata": {},
   "outputs": [],
   "source": []
  },
  {
   "cell_type": "markdown",
   "metadata": {},
   "source": [
    "***"
   ]
  },
  {
   "cell_type": "markdown",
   "metadata": {},
   "source": [
    "<img align=\"left\" width=\"6%\" style=\"padding-right:10px; padding-top:10px;\" src=\"images/refs.png\">\n",
    "\n",
    "## Useful References"
   ]
  },
  {
   "cell_type": "markdown",
   "metadata": {},
   "source": [
    "* [The official Python 3.6 documentation](https://docs.python.org/3.6/index.html)"
   ]
  },
  {
   "cell_type": "markdown",
   "metadata": {},
   "source": [
    "<img align=\"left\" width=\"5%\" style=\"padding-right:10px;\" src=\"images/email.png\">\n",
    "\n",
    "*For issues or suggestions related to this notebook, write to: gmasetti@ccom.unh.edu*"
   ]
  },
  {
   "cell_type": "markdown",
   "metadata": {},
   "source": [
    "<!--NAVIGATION-->\n",
    "[< Read and Write Text Files](007_Read_and_Write_Text_Files.ipynb) | [Contents](index.ipynb) | [More About Classes >](009_More_About_Classes.ipynb)"
   ]
  }
 ],
 "metadata": {
  "kernelspec": {
   "display_name": "Python 3",
   "language": "python",
   "name": "python3"
  },
  "language_info": {
   "codemirror_mode": {
    "name": "ipython",
    "version": 3
   },
   "file_extension": ".py",
   "mimetype": "text/x-python",
   "name": "python",
   "nbconvert_exporter": "python",
   "pygments_lexer": "ipython3",
   "version": "3.6.7"
  }
 },
 "nbformat": 4,
 "nbformat_minor": 2
}
