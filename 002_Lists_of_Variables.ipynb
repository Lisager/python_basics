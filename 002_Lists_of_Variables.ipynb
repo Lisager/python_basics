{
 "cells": [
  {
   "cell_type": "markdown",
   "metadata": {},
   "source": [
    "<a href=\"https://www.hydroffice.org/epom/\"><img src=\"images/000_000_epom_logo.png\" alt=\"ePOM\" title=\"Open ePOM home page\" align=\"center\" width=\"12%\" alt=\"Python logo\\\"></a>"
   ]
  },
  {
   "cell_type": "markdown",
   "metadata": {},
   "source": [
    "# Lists of Variables"
   ]
  },
  {
   "cell_type": "markdown",
   "metadata": {},
   "source": [
    "This notebook focuses on one of the most useful and popular Python type: the `list`.\n",
    "\n",
    "You can use it to collect together values that are required in your code without the need to name each of them. \n",
    "\n",
    "For instance, you may use a list for collecting:\n",
    "\n",
    "- The names of the days in a week.\n",
    "- The salinity values measured during an experiment.\n",
    "- The items that you want to purchase at the grocery (i.e., a shopping list).\n",
    "\n",
    "Other characteristics of a list are:\n",
    "\n",
    "- Each element have a specific position (that is, a list is **ordered**).\n",
    "- Each element can be modified (that is, a list is **changeable**).\n",
    "- Each element can be of any type, although they are more often of the same type (e.g., `float`)."
   ]
  },
  {
   "cell_type": "markdown",
   "metadata": {},
   "source": [
    "<img align=\"left\" width=\"6%\" style=\"padding-right:10px;\" src=\"images/arrow.png\">\n",
    "\n",
    "A `list` is a container for an ordered sequence of values that can be modified."
   ]
  },
  {
   "cell_type": "markdown",
   "metadata": {},
   "source": [
    "<img align=\"left\" width=\"6%\" style=\"padding-right:10px;\" src=\"images/arrow.png\">\n",
    "\n",
    "The values in a list can be of any type."
   ]
  },
  {
   "cell_type": "markdown",
   "metadata": {},
   "source": [
    "There a few ways in which you can create and populate a list. We will introduce a couple of them."
   ]
  },
  {
   "cell_type": "markdown",
   "metadata": {},
   "source": [
    "***"
   ]
  },
  {
   "cell_type": "markdown",
   "metadata": {},
   "source": [
    "## Creation of a List: Approach #1"
   ]
  },
  {
   "cell_type": "markdown",
   "metadata": {},
   "source": [
    "It is possible to create and populate a list at once by enclosing the values in square brackets, `[` and `]`:"
   ]
  },
  {
   "cell_type": "code",
   "execution_count": null,
   "metadata": {},
   "outputs": [],
   "source": [
    "list0 = [23, 9, 15]\n",
    "print(list0)"
   ]
  },
  {
   "cell_type": "markdown",
   "metadata": {},
   "source": [
    " "
   ]
  },
  {
   "cell_type": "markdown",
   "metadata": {
    "solution2": "hidden",
    "solution2_first": true
   },
   "source": [
    "<img align=\"left\" width=\"6%\" style=\"padding-right:10px;\" src=\"images/test.png\">\n",
    "\n",
    "Create and display a list named `float_list` with five `float` values of your choice:"
   ]
  },
  {
   "cell_type": "code",
   "execution_count": null,
   "metadata": {
    "solution2": "hidden"
   },
   "outputs": [],
   "source": [
    "float_list = [0.13, 3.96, 1.215, 8.0022, 0.9]\n",
    "print(float_list)"
   ]
  },
  {
   "cell_type": "code",
   "execution_count": null,
   "metadata": {},
   "outputs": [],
   "source": []
  },
  {
   "cell_type": "markdown",
   "metadata": {},
   "source": [
    " "
   ]
  },
  {
   "cell_type": "markdown",
   "metadata": {
    "solution2": "hidden",
    "solution2_first": true
   },
   "source": [
    "<img align=\"left\" width=\"6%\" style=\"padding-right:10px;\" src=\"images/test.png\">\n",
    "\n",
    "Create and display a list named `week_days_list` with the name of all the days in a week (starting from `Monday`):"
   ]
  },
  {
   "cell_type": "code",
   "execution_count": null,
   "metadata": {
    "solution2": "hidden"
   },
   "outputs": [],
   "source": [
    "week_days_list = ['Monday', 'Tuesday', 'Wednesday', 'Thursday', 'Friday', 'Saturday', 'Sunday']\n",
    "print(week_days_list)"
   ]
  },
  {
   "cell_type": "code",
   "execution_count": null,
   "metadata": {},
   "outputs": [],
   "source": []
  },
  {
   "cell_type": "markdown",
   "metadata": {},
   "source": [
    "  "
   ]
  },
  {
   "cell_type": "markdown",
   "metadata": {},
   "source": [
    "To retrieve the number of elements in a list, you can use the `len()` function."
   ]
  },
  {
   "cell_type": "code",
   "execution_count": null,
   "metadata": {},
   "outputs": [],
   "source": [
    "list0 = [23, 9, 15]\n",
    "nr_elements = len(list0)\n",
    "print(nr_elements)"
   ]
  },
  {
   "cell_type": "markdown",
   "metadata": {},
   "source": [
    "<img align=\"left\" width=\"6%\" style=\"padding-right:10px;\" src=\"images/arrow.png\">\n",
    "\n",
    "The `len()` function is used to count the number of elements in Python containers like `list`."
   ]
  },
  {
   "cell_type": "markdown",
   "metadata": {},
   "source": [
    "Once that you know the number of elements in list, you can directly access them by indexing. That is, you can use the bracket operator '[ ]' putting the index of the element in the list inside the brackets."
   ]
  },
  {
   "cell_type": "markdown",
   "metadata": {},
   "source": [
    "Similar to many other programming languages, Python starts from `0` to indexing the elements in a list."
   ]
  },
  {
   "cell_type": "code",
   "execution_count": null,
   "metadata": {},
   "outputs": [],
   "source": [
    "list0 = [23, 9, 15]\n",
    "first_value = list0[0]\n",
    "print(first_value)"
   ]
  },
  {
   "cell_type": "markdown",
   "metadata": {},
   "source": [
    "Given that the `list0` variable has only three elements, the last element has the index of `2`:"
   ]
  },
  {
   "cell_type": "code",
   "execution_count": null,
   "metadata": {},
   "outputs": [],
   "source": [
    "list0 = [23, 9, 15]\n",
    "last_value = list0[2]\n",
    "print(last_value)"
   ]
  },
  {
   "cell_type": "markdown",
   "metadata": {},
   "source": [
    "If you try to access the element at an index that does not exist, the result is an `IndexError`. For instance, by accessing the invalid `10` index:"
   ]
  },
  {
   "cell_type": "code",
   "execution_count": null,
   "metadata": {},
   "outputs": [],
   "source": [
    "list0 = [23, 9, 15]\n",
    "invalid_index_value = list0[10]"
   ]
  },
  {
   "cell_type": "markdown",
   "metadata": {},
   "source": [
    "<img align=\"left\" width=\"6%\" style=\"padding-right:10px;\" src=\"images/arrow.png\">\n",
    "\n",
    "The `[ ]` operator provide direct access to an element in the list by putting the index of the element inside the brackets."
   ]
  },
  {
   "cell_type": "markdown",
   "metadata": {},
   "source": [
    "<img align=\"left\" width=\"6%\" style=\"padding-right:10px;\" src=\"images/arrow.png\">\n",
    "\n",
    "The `[0]` index provides access to the first element in a list (unless the list is empty)."
   ]
  },
  {
   "cell_type": "markdown",
   "metadata": {},
   "source": [
    "<img align=\"left\" width=\"6%\" style=\"padding-right:10px;\" src=\"images/arrow.png\">\n",
    "\n",
    "The last index of a list is equal to the number of elements in a list minus 1."
   ]
  },
  {
   "cell_type": "markdown",
   "metadata": {},
   "source": [
    "An alternative way to access the last element in a list is to use the index `-1`:"
   ]
  },
  {
   "cell_type": "code",
   "execution_count": null,
   "metadata": {},
   "outputs": [],
   "source": [
    "list0 = [23, 9, 15]\n",
    "last_value = list0[-1]\n",
    "print(last_value)"
   ]
  },
  {
   "cell_type": "markdown",
   "metadata": {},
   "source": [
    " "
   ]
  },
  {
   "cell_type": "markdown",
   "metadata": {
    "solution2": "hidden",
    "solution2_first": true
   },
   "source": [
    "<img align=\"left\" width=\"6%\" style=\"padding-right:10px;\" src=\"images/test.png\">\n",
    "\n",
    "Add the required code to print the third element (`30.5`) in the list:"
   ]
  },
  {
   "cell_type": "code",
   "execution_count": null,
   "metadata": {
    "solution2": "hidden"
   },
   "outputs": [],
   "source": [
    "salinity_values = [31.4, 31.6, 30.5, 30.8, 30.4]\n",
    "third_value = salinity_values[2]\n",
    "print(third_value)"
   ]
  },
  {
   "cell_type": "code",
   "execution_count": null,
   "metadata": {},
   "outputs": [],
   "source": [
    "salinity_values = [31.4, 31.6, 30.5, 30.8, 30.4]"
   ]
  },
  {
   "cell_type": "markdown",
   "metadata": {},
   "source": [
    "  "
   ]
  },
  {
   "cell_type": "markdown",
   "metadata": {
    "solution2": "hidden",
    "solution2_first": true
   },
   "source": [
    "<img align=\"left\" width=\"6%\" style=\"padding-right:10px;\" src=\"images/test.png\">\n",
    "\n",
    "Add the required code to print the last element (`30.4`) in the list:"
   ]
  },
  {
   "cell_type": "code",
   "execution_count": null,
   "metadata": {
    "solution2": "hidden"
   },
   "outputs": [],
   "source": [
    "salinity_values = [31.4, 31.6, 30.5, 30.8, 30.4]\n",
    "third_value = salinity_values[-1]\n",
    "print(third_value)"
   ]
  },
  {
   "cell_type": "code",
   "execution_count": null,
   "metadata": {},
   "outputs": [],
   "source": [
    "salinity_values = [31.4, 31.6, 30.5, 30.8, 30.4]"
   ]
  },
  {
   "cell_type": "markdown",
   "metadata": {},
   "source": [
    "***"
   ]
  },
  {
   "cell_type": "markdown",
   "metadata": {},
   "source": [
    "## Creation of a List: Approach #2"
   ]
  },
  {
   "cell_type": "markdown",
   "metadata": {},
   "source": [
    "An alternative creation approach is to first create a empty list, then to append some values to it."
   ]
  },
  {
   "cell_type": "code",
   "execution_count": null,
   "metadata": {},
   "outputs": [],
   "source": [
    "list1 = list()\n",
    "list1.append(23)\n",
    "list1.append(9)\n",
    "list1.append(15)\n",
    "print(list1)"
   ]
  },
  {
   "cell_type": "markdown",
   "metadata": {},
   "source": [
    "In the above code: \n",
    "\n",
    "- First, an empty list (created using the `list()` constructor) is assigned to the `list1` variable. \n",
    "- Then, three integers values (`23`, `9`, and `15`) are appended to the list, using `.append()`.\n",
    "- Finally, the familiar `print()` function is called with the `list1` variable to display the three values that represents the content of the list. "
   ]
  },
  {
   "cell_type": "markdown",
   "metadata": {},
   "source": [
    "The two created lists (`list0` and `list1`) contain the same values. Thus, it is often a question of convenience (and personal preference) which creation approach to follow."
   ]
  },
  {
   "cell_type": "markdown",
   "metadata": {},
   "source": [
    "In this code, you may have noticed the `.append()`. \n",
    "\n",
    "It is in an unusual position in comparison to other functions that we introduced in the past notebooks (i.e., `type()` and `print()`).\n",
    "\n",
    "The `append()` is a specialized function that applies to the variable (i.e., `list1`) at which is connected by the `.`. The name of this type of variable-specific functions is **method**."
   ]
  },
  {
   "cell_type": "markdown",
   "metadata": {},
   "source": [
    "<img align=\"left\" width=\"6%\" style=\"padding-right:10px;\" src=\"images/arrow.png\">\n",
    "\n",
    "A **method** is a specialized function that applies to the variable at which is connected by the `.`."
   ]
  },
  {
   "cell_type": "markdown",
   "metadata": {},
   "source": [
    "***"
   ]
  },
  {
   "cell_type": "markdown",
   "metadata": {},
   "source": [
    "## List's Methods"
   ]
  },
  {
   "cell_type": "markdown",
   "metadata": {},
   "source": [
    "We have just met our first method: `append()`. This method is just one of several methods available in each `list` variable.\n",
    "\n",
    "To know the methods available for each variable, you can use the `dir()` function:"
   ]
  },
  {
   "cell_type": "code",
   "execution_count": null,
   "metadata": {},
   "outputs": [],
   "source": [
    "list2 = [1, 2, 4, 8, 16, 32, 64, 128]\n",
    "dir(list2)"
   ]
  },
  {
   "cell_type": "markdown",
   "metadata": {},
   "source": [
    "After the execution of the above code, a long list of methods is displayed as result.\n",
    "\n",
    "For the moment, ignore the methods with names starting with `__` characters. In Python, they are called **magic methods** and will be the subject of a future notebook.\n",
    "\n",
    "After the **magic methods**, you should see the `append()` method that we have just talked about. However, as you can read, there are other methods that is handy to know about."
   ]
  },
  {
   "cell_type": "markdown",
   "metadata": {},
   "source": [
    "<img align=\"left\" width=\"6%\" style=\"padding-right:10px;\" src=\"images/arrow.png\">\n",
    "\n",
    "The `dir()` function can be used to explore the methods available in a variable."
   ]
  },
  {
   "cell_type": "markdown",
   "metadata": {},
   "source": [
    "For instance, the `remove()` method is used to remove a given element from a list. \n",
    "\n",
    "The following code visualize two numbers: \n",
    "\n",
    "- The first number is the initial number of elements in the list (i.e., `8` elements).\n",
    "- The second number is the resulting number of elements after applied `remove()` for the `64` value (i.e., `7` elements)."
   ]
  },
  {
   "cell_type": "code",
   "execution_count": null,
   "metadata": {},
   "outputs": [],
   "source": [
    "list2 = [1, 2, 4, 8, 16, 32, 64, 128]\n",
    "\n",
    "initial_nr_elements = len(list2)\n",
    "print(initial_nr_elements)\n",
    "\n",
    "list2.remove(64)\n",
    "\n",
    "final_nr_elements = len(list2)\n",
    "print(final_nr_elements)"
   ]
  },
  {
   "cell_type": "markdown",
   "metadata": {},
   "source": [
    " "
   ]
  },
  {
   "cell_type": "markdown",
   "metadata": {
    "solution2": "hidden",
    "solution2_first": true
   },
   "source": [
    "<img align=\"left\" width=\"6%\" style=\"padding-right:10px;\" src=\"images/test.png\">\n",
    "\n",
    "Add the required code to append `1020.5` to the `depth_list` variable, then display the resulting list elements."
   ]
  },
  {
   "cell_type": "code",
   "execution_count": null,
   "metadata": {
    "solution2": "hidden"
   },
   "outputs": [],
   "source": [
    "depth_list = [0.5, 12.2, 59.2, 429.2]\n",
    "depth_list.append(1020.5)\n",
    "print(depth_list)"
   ]
  },
  {
   "cell_type": "code",
   "execution_count": null,
   "metadata": {},
   "outputs": [],
   "source": [
    "depth_list = [0.5, 12.2, 59.2, 429.2]"
   ]
  },
  {
   "cell_type": "markdown",
   "metadata": {},
   "source": [
    " "
   ]
  },
  {
   "cell_type": "markdown",
   "metadata": {
    "solution2": "hidden",
    "solution2_first": true
   },
   "source": [
    "<img align=\"left\" width=\"6%\" style=\"padding-right:10px;\" src=\"images/test.png\">\n",
    "\n",
    "Add the required code to remove `North Pacific right whale` from the `cetaceans_list` variable, then display the resulting number of elements."
   ]
  },
  {
   "cell_type": "code",
   "execution_count": null,
   "metadata": {
    "solution2": "hidden"
   },
   "outputs": [],
   "source": [
    "cetaceans_list = ['Bowhead whale', 'North Atlantic right whale', 'North Pacific right whale', 'Southern right whale']\n",
    "cetaceans_list.remove('North Atlantic right whale')\n",
    "nr_or_cetaceans = len(cetaceans_list)\n",
    "print(nr_or_cetaceans)"
   ]
  },
  {
   "cell_type": "code",
   "execution_count": null,
   "metadata": {},
   "outputs": [],
   "source": [
    "cetaceans_list = ['Bowhead whale', 'North Atlantic right whale', 'North Pacific right whale', 'Southern right whale']"
   ]
  },
  {
   "cell_type": "markdown",
   "metadata": {},
   "source": [
    " "
   ]
  },
  {
   "cell_type": "markdown",
   "metadata": {},
   "source": [
    "If you are curious to know more about the methods available for a `list`, give a look to this [section](https://docs.python.org/3.6/library/stdtypes.html?highlight=list#lists) of the official Python documentation."
   ]
  },
  {
   "cell_type": "markdown",
   "metadata": {},
   "source": [
    "***"
   ]
  },
  {
   "cell_type": "markdown",
   "metadata": {},
   "source": [
    "<img align=\"left\" width=\"6%\" style=\"padding-right:10px; padding-top:10px;\" src=\"images/refs.png\">\n",
    "\n",
    "## Useful References"
   ]
  },
  {
   "cell_type": "markdown",
   "metadata": {},
   "source": [
    "* [The official Python 3.6 documentation](https://docs.python.org/3.6/index.html)\n",
    "  * [Lists](https://docs.python.org/3.6/library/stdtypes.html?highlight=list#lists)"
   ]
  },
  {
   "cell_type": "markdown",
   "metadata": {},
   "source": [
    "<img align=\"left\" width=\"5%\" style=\"padding-right:10px;\" src=\"images/email.png\">\n",
    "\n",
    "*For issues or suggestions related to this notebook, write to: gmasetti@ccom.unh.edu*"
   ]
  },
  {
   "cell_type": "markdown",
   "metadata": {},
   "source": [
    "<!--NAVIGATION-->\n",
    "[< Variables and Types](001_Variables_and_Types.ipynb) | [Contents](index.ipynb) | [Conditional Execution >](003_Conditional_Execution.ipynb)"
   ]
  }
 ],
 "metadata": {
  "kernelspec": {
   "display_name": "Python 3",
   "language": "python",
   "name": "python3"
  },
  "language_info": {
   "codemirror_mode": {
    "name": "ipython",
    "version": 3
   },
   "file_extension": ".py",
   "mimetype": "text/x-python",
   "name": "python",
   "nbconvert_exporter": "python",
   "pygments_lexer": "ipython3",
   "version": "3.6.5"
  }
 },
 "nbformat": 4,
 "nbformat_minor": 2
}
