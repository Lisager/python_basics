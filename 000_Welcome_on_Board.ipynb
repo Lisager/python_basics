{
 "cells": [
  {
   "cell_type": "markdown",
   "metadata": {},
   "source": [
    "![POMP logo](images/000_000_pomp_logo.png)"
   ]
  },
  {
   "cell_type": "markdown",
   "metadata": {},
   "source": [
    "# Welcome on board!"
   ]
  },
  {
   "cell_type": "markdown",
   "metadata": {},
   "source": [
    "This is the first of a collection of **Programming Basics with Python** notebooks. \n",
    "\n",
    "The overall task is to drive you through some basic concepts of programming using the Python language.\n",
    "\n",
    "However, before starting the travel, you will learn how to use a notebook like the current one. "
   ]
  },
  {
   "cell_type": "markdown",
   "metadata": {},
   "source": [
    "# What is a notebook?"
   ]
  },
  {
   "cell_type": "markdown",
   "metadata": {},
   "source": [
    "A notebook is not just a simple text document, but an **interactive computing environment** including code, plots, images, video, etc."
   ]
  },
  {
   "cell_type": "markdown",
   "metadata": {},
   "source": [
    "This translate to the facts that you can:\n",
    "\n",
    "* **Edit code** in the browser.\n",
    "* **Run code** from the browser.\n",
    "* **Visualize** the results attached to the code used to generate them.\n",
    "* **Edit narrative text**.\n",
    "* **Include mathematical equations**."
   ]
  },
  {
   "cell_type": "markdown",
   "metadata": {},
   "source": [
    "# How to access the other notebooks?"
   ]
  },
  {
   "cell_type": "markdown",
   "metadata": {},
   "source": [
    "1. Right-click on the first icon at the top left part of this notebook, then select the option to open on a new tab:\n",
    "\n",
    "![How to open the Jupyter dashboard](images/000_010_open_dashboard.png)\n",
    "\n",
    "2. Once that the browser open the notebook dashboard, click on the folder named `python_basics`:\n",
    "\n",
    "![Jupyter dashboard with_root_folder](images/000_020_dashboard_with_root_folder.png)\n",
    "\n",
    "3. The dashboard page will list all the available notebooks (`000_Welcome_on_board.ipynb` is this current notebook):\n",
    "\n",
    "![Jupyter dashboard listing_notebooks](images/000_030_dashboard_list_of_notebooks.png)\n",
    "\n",
    "4. It is possible to click and access the listed notebooks in any order. However, you should follow their numerical order the first time that you go through them. This is because they incrementally introduce new concepts."
   ]
  },
  {
   "cell_type": "markdown",
   "metadata": {},
   "source": [
    "# Useful References"
   ]
  },
  {
   "cell_type": "markdown",
   "metadata": {},
   "source": [
    "- [The Jupyter Notebook](https://jupyter-notebook.readthedocs.io/en/stable/notebook.html)"
   ]
  }
 ],
 "metadata": {
  "kernelspec": {
   "display_name": "Python 3",
   "language": "python",
   "name": "python3"
  },
  "language_info": {
   "codemirror_mode": {
    "name": "ipython",
    "version": 3
   },
   "file_extension": ".py",
   "mimetype": "text/x-python",
   "name": "python",
   "nbconvert_exporter": "python",
   "pygments_lexer": "ipython3",
   "version": "3.6.5"
  }
 },
 "nbformat": 4,
 "nbformat_minor": 2
}
