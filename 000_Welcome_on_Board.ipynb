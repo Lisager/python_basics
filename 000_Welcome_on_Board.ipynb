{
 "cells": [
  {
   "cell_type": "markdown",
   "metadata": {},
   "source": [
    "![POMP logo](images/000_000_pomp_logo.png)"
   ]
  },
  {
   "cell_type": "markdown",
   "metadata": {},
   "source": [
    "# Welcome on board!"
   ]
  },
  {
   "cell_type": "markdown",
   "metadata": {},
   "source": [
    "This is the first of a collection of **Programming Basics with Python** notebooks. \n",
    "\n",
    "The overall task is to drive you through some basic concepts of programming using the Python language.\n",
    "\n",
    "However, before starting the travel, you will learn how to use a notebook like the current one. "
   ]
  },
  {
   "cell_type": "markdown",
   "metadata": {},
   "source": [
    "# What is a notebook?"
   ]
  },
  {
   "cell_type": "markdown",
   "metadata": {},
   "source": [
    "A notebook is not just a simple text document, but an **interactive computing environment** including code, plots, images, video, etc."
   ]
  },
  {
   "cell_type": "markdown",
   "metadata": {},
   "source": [
    "This translate to the facts that you can:\n",
    "\n",
    "* **Edit and run code** in a browser.\n",
    "* **Visualize** the results attached to the code used to generate them.\n",
    "* **Write narrative text**.\n",
    "\n",
    "A notebook is composed of a series of cells. Its cell is a section of the whole document. There are two main types of cells: **Markdown** and **Code**."
   ]
  },
  {
   "cell_type": "markdown",
   "metadata": {},
   "source": [
    "## What is a Markdown cell?"
   ]
  },
  {
   "cell_type": "markdown",
   "metadata": {},
   "source": [
    "A **Markdown** cell is a notebook area where you can put some descriptive text like, for instance, some notes describing a lab experiment. "
   ]
  },
  {
   "cell_type": "markdown",
   "metadata": {},
   "source": [
    "The area where you are reading this sentence is itself a **Markdown** cell. If you double click on this text, the cell will switch to editing mode. *Try it!*"
   ]
  },
  {
   "cell_type": "markdown",
   "metadata": {},
   "source": [
    "If you want to stop the editing mode of the above cell, just click on the Run button *at the top of this notebook* (or, alternatively, press `Shift+Enter`) and the cell will be rendered as text:\n",
    "\n",
    "![Click on the Run button](images/000_010_run_button.png)"
   ]
  },
  {
   "cell_type": "markdown",
   "metadata": {},
   "source": [
    "This kind of cell is called **Markdown** because you can mark up the entered text to get some special effects. \n",
    "\n",
    "For instance, by surrounding a word (e.g., ocean) with:\n",
    "\n",
    "- A single \\* character (e.g., \\*oceano\\*), the word will be rendered in italic font (e.g., *ocean*). \n",
    "- Two consecutive \\* character (e.g., \\*\\*oceano\\*\\*), the word will be rendered in bold font (e.g., **ocean**).\n",
    "\n",
    "For this collection of notebooks, you don't really need to learn more about **Markdown**. However, if you want to know more about it, follow [this link](https://jupyter-notebook.readthedocs.io/en/stable/examples/Notebook/Working%20With%20Markdown%20Cells.html)."
   ]
  },
  {
   "cell_type": "markdown",
   "metadata": {},
   "source": [
    "## What is a Code cell?"
   ]
  },
  {
   "cell_type": "markdown",
   "metadata": {},
   "source": [
    "A **Code** cell is a notebook area where you can write and then execute code. "
   ]
  },
  {
   "cell_type": "markdown",
   "metadata": {},
   "source": [
    "The following cell is a **Code** cell. It does the very basic task to print a \"Hello Python\" text. \n",
    "\n",
    "The next notebooks will introduce the main concepts of programming with Python. Here you need to just learn how to execute the code in a **Code** cell:\n",
    "\n",
    "- Select the following cell by clicking in it.\n",
    "- Click the Run button at the top of this notebook (or, alternatively, press `Shift+Enter`) like you did for the **Markdown** cell."
   ]
  },
  {
   "cell_type": "code",
   "execution_count": null,
   "metadata": {},
   "outputs": [],
   "source": [
    "print(\"Hello Python\")"
   ]
  },
  {
   "cell_type": "markdown",
   "metadata": {},
   "source": [
    "If you got a \"Hello Python\" text under the **Code** cell, congratulations! You have successfully executed the Python code."
   ]
  },
  {
   "cell_type": "markdown",
   "metadata": {},
   "source": [
    "## How to clear a Notebook?"
   ]
  },
  {
   "cell_type": "markdown",
   "metadata": {},
   "source": [
    "Sometimes you want to clear the coding results to repeat the execution of a notebook. \n",
    "\n",
    "You may do it by clicking in the menu at the top of this notebook: `Kernel/Restart and Clear Output`.\n",
    "\n",
    "![How to clear a notebook](images/000_020_dashboard_restart_kernel_and_clear_output.png)"
   ]
  },
  {
   "cell_type": "markdown",
   "metadata": {},
   "source": [
    "# How to access the other notebooks?"
   ]
  },
  {
   "cell_type": "markdown",
   "metadata": {},
   "source": [
    "1. Right-click on the first icon at the top left part of this notebook, then select the option to open on a new tab:\n",
    "\n",
    "![How to open the Jupyter dashboard](images/000_110_open_dashboard.png)\n",
    "\n",
    "2. Once that the browser open the notebook dashboard, click on the folder named `python_basics`:\n",
    "\n",
    "![Jupyter dashboard with_root_folder](images/000_120_dashboard_with_root_folder.png)\n",
    "\n",
    "3. The dashboard page will list all the available notebooks (e.g., `000_Welcome_on_board.ipynb` is this current notebook):\n",
    "\n",
    "![Jupyter dashboard listing_notebooks](images/000_130_dashboard_list_of_notebooks.png)\n",
    "\n",
    "4. It is possible to click and access the listed notebooks in any order. However, you should follow their numerical order the first time that you go through them. This is because they incrementally introduce new concepts."
   ]
  },
  {
   "cell_type": "markdown",
   "metadata": {},
   "source": [
    "# Useful References"
   ]
  },
  {
   "cell_type": "markdown",
   "metadata": {},
   "source": [
    "- [The Jupyter Notebook manual](https://jupyter-notebook.readthedocs.io/en/stable/notebook.html)\n",
    "- [The Markdown page on the Jupyter Notebook manual](https://jupyter-notebook.readthedocs.io/en/stable/examples/Notebook/Working%20With%20Markdown%20Cells.html)\n"
   ]
  }
 ],
 "metadata": {
  "kernelspec": {
   "display_name": "Python 3",
   "language": "python",
   "name": "python3"
  },
  "language_info": {
   "codemirror_mode": {
    "name": "ipython",
    "version": 3
   },
   "file_extension": ".py",
   "mimetype": "text/x-python",
   "name": "python",
   "nbconvert_exporter": "python",
   "pygments_lexer": "ipython3",
   "version": "3.6.5"
  }
 },
 "nbformat": 4,
 "nbformat_minor": 2
}
