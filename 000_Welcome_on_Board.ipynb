{
 "cells": [
  {
   "cell_type": "markdown",
   "metadata": {},
   "source": [
    "<a href=\"https://www.hydroffice.org/epom/\"><img src=\"images/000_000_epom_logo.png\" alt=\"ePOM\" title=\"Open ePOM home page\" align=\"center\" width=\"12%\" alt=\"Python logo\\\"></a>"
   ]
  },
  {
   "cell_type": "markdown",
   "metadata": {},
   "source": [
    "# Welcome on board!"
   ]
  },
  {
   "cell_type": "markdown",
   "metadata": {},
   "source": [
    "This is the first of a collection of **Programming Basics with Python** notebooks for Ocean Mapping. \n",
    "\n",
    "The overall task is to lead you through some basic concepts of programming using the Python language, with a focus on their application to the Ocean Mapping field."
   ]
  },
  {
   "cell_type": "markdown",
   "metadata": {},
   "source": [
    "To guide you through the notebooks, we will use the following two symbols:"
   ]
  },
  {
   "cell_type": "markdown",
   "metadata": {},
   "source": [
    "<img align=\"left\" width=\"6%\" style=\"padding-right:10px;\" src=\"images/key.png\">\n",
    "\n",
    "A blue triangle with a key highlights the key concepts. "
   ]
  },
  {
   "cell_type": "markdown",
   "metadata": {},
   "source": [
    "<img align=\"left\" width=\"6%\" style=\"padding-right:10px;\" src=\"images/info.png\">\n",
    "\n",
    "An `i` within a yellow circle precedes supplemental information. Thus, you may decide to skip these parts at a first read. "
   ]
  },
  {
   "cell_type": "markdown",
   "metadata": {},
   "source": [
    "***"
   ]
  },
  {
   "cell_type": "markdown",
   "metadata": {},
   "source": [
    "# Why use Python?"
   ]
  },
  {
   "cell_type": "markdown",
   "metadata": {},
   "source": [
    "<img src=\"https://upload.wikimedia.org/wikipedia/commons/thumb/c/c3/Python-logo-notext.svg/110px-Python-logo-notext.svg.png\"\n",
    "     align=\"left\"\n",
    "     width=\"10%\"\n",
    "     alt=\"Python logo\\\">"
   ]
  },
  {
   "cell_type": "markdown",
   "metadata": {},
   "source": [
    "<img align=\"left\" width=\"6%\" style=\"padding-right:10px;\" src=\"images/key.png\">\n",
    "\n",
    "[Python](http://www.python.org/) is a [very popular](https://www.economist.com/graphic-detail/2018/07/26/python-is-becoming-the-worlds-most-popular-coding-language) programming language with applications in [widely different fields](https://www.python.org/about/apps/)."
   ]
  },
  {
   "cell_type": "markdown",
   "metadata": {},
   "source": [
    "Its popularity may be explained by a number of facts like that the language is:\n",
    "\n",
    "* **Clean and simple**: The code is easy to read, and it is simple to learn the basic syntax.\n",
    "* **Expressive**: A task is usually achieved with fewer lines of code than for other programming languages. Fewer lines of code often translate to fewer bugs and code easier to maintain.\n",
    "* **Free** and **open source** ([FOSS](https://en.wikipedia.org/wiki/Free_and_open-source_software)): No need to pay for using it, and the content of the source code is not hidden from the users.\n",
    "* **Well designed**: It encourages many good programming practices."
   ]
  },
  {
   "cell_type": "markdown",
   "metadata": {},
   "source": [
    "<img align=\"left\" width=\"6%\" style=\"padding-right:10px;\" src=\"images/info.png\">\n",
    "\n",
    "Other (and a bit more technical) reasons:"
   ]
  },
  {
   "cell_type": "markdown",
   "metadata": {},
   "source": [
    "* **Interpreted**: No need to compile the code. The Python interpreter reads and executes the code directly.\n",
    "* **Dynamically typed**: No need to define the type of variables.\n",
    "* **Automatically memory managed**: No need to explicitly allocate and deallocate memory for variables. "
   ]
  },
  {
   "cell_type": "markdown",
   "metadata": {},
   "source": [
    "It also surely helps that it has:\n",
    "\n",
    "* **A large [standard library](https://en.wikipedia.org/wiki/Standard_library)**: Python has long maintained the philosophy of *batteries included*. Many functionalities are immediately available, without making the user download separate packages.\n",
    "* **A large collection of third-party packages**: Many of them are made available through the [Python Package Index (PyPI) repository](https://pypi.org/)."
   ]
  },
  {
   "cell_type": "markdown",
   "metadata": {},
   "source": [
    "However, you need to be aware that Python does have some weaknesses. Among them:\n",
    "\n",
    "* Since interpreted and dynamically typed, Python code can be **slow** when compared to compiled, statically-typed programming languages (e.g., C++ and Fortran). However, there are a few ways to speed up its execution time to get performances very similar to those latter languages.\n",
    "* The large number of third-party packages, tutorials, blog posts and other kinds of material publicly available make it **quite difficult to orient across all the available information**. This is particularly true when you start to learn."
   ]
  },
  {
   "cell_type": "markdown",
   "metadata": {},
   "source": [
    "Along with basic concepts of programming, this collection of notebooks will help you to familiarize with a minimal but useful subset of Python. However, before starting this programming journey, you will learn some basic notions like, for instance, how to use a notebook like the present one. "
   ]
  },
  {
   "cell_type": "markdown",
   "metadata": {},
   "source": [
    "***"
   ]
  },
  {
   "cell_type": "markdown",
   "metadata": {},
   "source": [
    "# What is a notebook?"
   ]
  },
  {
   "cell_type": "markdown",
   "metadata": {},
   "source": [
    "<img align=\"left\" width=\"6%\" style=\"padding-right:10px;\" src=\"images/key.png\">\n",
    "\n",
    "A notebook is not just a simple text document, but an **interactive computing environment** with code and multimedia content in a single file."
   ]
  },
  {
   "cell_type": "markdown",
   "metadata": {},
   "source": [
    "This translates to the facts that you can:\n",
    "\n",
    "* **Edit and run code** in a browser.\n",
    "* **Visualize** the results attached to the code used to generate them.\n",
    "* **Write narrative text**.\n",
    "\n",
    "The main components of the interface are (See the below image):\n",
    "\n",
    "* A series of **cells**.\n",
    "* The **title bar** with the **notebook name**.\n",
    "* The **Menu bar**.\n",
    "* The **Toolbar**.\n",
    "\n",
    "![Click on the Run button](images/000_005_interface.png)"
   ]
  },
  {
   "cell_type": "markdown",
   "metadata": {},
   "source": [
    "Each cell is a section of the notebook body. Each notebook has a variable number of cells since the user can easily add and remove them."
   ]
  },
  {
   "cell_type": "markdown",
   "metadata": {},
   "source": [
    "<img align=\"left\" width=\"6%\" style=\"padding-right:10px;\" src=\"images/key.png\">\n",
    "\n",
    "The **active cell** has a blue or green bar to the far left. (See the above image.)"
   ]
  },
  {
   "cell_type": "markdown",
   "metadata": {},
   "source": [
    "<img align=\"left\" width=\"6%\" style=\"padding-right:10px;\" src=\"images/key.png\">\n",
    "\n",
    "There are two main types of cells: **Markdown** and **Code**."
   ]
  },
  {
   "cell_type": "markdown",
   "metadata": {},
   "source": [
    "<img align=\"left\" width=\"6%\" style=\"padding-right:10px;\" src=\"images/info.png\">\n",
    "\n",
    "The Menu bar and the Toolbar give you access to several actions: e.g., add/delete a cell, change the type of an active cell. If you want to learn more about the notebook interface, [this page](https://jupyter-notebook.readthedocs.io/en/stable/notebook.html#notebook-user-interface) is a good starting point."
   ]
  },
  {
   "cell_type": "markdown",
   "metadata": {},
   "source": [
    "## What is a Markdown cell?"
   ]
  },
  {
   "cell_type": "markdown",
   "metadata": {},
   "source": [
    "A **Markdown** cell is a notebook area where you can put some descriptive text like, for instance, some notes describing a lab experiment. "
   ]
  },
  {
   "cell_type": "markdown",
   "metadata": {},
   "source": [
    "The area where you are reading this sentence is itself a **Markdown** cell. If you press `Enter` (or double click) on this text, the cell will switch to **edit mode**. *Try it!*"
   ]
  },
  {
   "cell_type": "markdown",
   "metadata": {},
   "source": [
    "If you want to stop the **edit mode** of the above cell, just click on the <button class='btn btn-default btn-xs'><i class=\"icon-step-forward fa fa-step-forward\"></i></button> Run button *at the top of this notebook* (or, alternatively, press `Shift+Enter`) and the cell will switch back to **command mode** (and the marked-up text is rendered):\n",
    "\n",
    "![Click on the Run button](images/000_010_run_button.png)"
   ]
  },
  {
   "cell_type": "markdown",
   "metadata": {},
   "source": [
    "This kind of cell is called **Markdown** because you can mark up the entered text to get some special effects. \n",
    "\n",
    "For instance, by surrounding a word (e.g., ocean) with:\n",
    "\n",
    "- A single \\* character (e.g., \\*oceano\\*), the word will be rendered in italic font (e.g., *ocean*). \n",
    "- Two consecutive \\* character (e.g., \\*\\*oceano\\*\\*), the word will be rendered in bold font (e.g., **ocean**)."
   ]
  },
  {
   "cell_type": "markdown",
   "metadata": {},
   "source": [
    "<img align=\"left\" width=\"6%\" style=\"padding-right:10px;\" src=\"images/info.png\">\n",
    "\n",
    "For this collection of notebooks, you don't really need to learn more about **Markdown**. However, if you want to know more about it, follow [this link](https://jupyter-notebook.readthedocs.io/en/stable/examples/Notebook/Working%20With%20Markdown%20Cells.html)."
   ]
  },
  {
   "cell_type": "markdown",
   "metadata": {},
   "source": [
    "## What is a Code cell?"
   ]
  },
  {
   "cell_type": "markdown",
   "metadata": {},
   "source": [
    "<img align=\"left\" width=\"6%\" style=\"padding-right:10px;\" src=\"images/key.png\">\n",
    "\n",
    "A **Code** cell is a notebook area where you can write, modify, and execute code. "
   ]
  },
  {
   "cell_type": "markdown",
   "metadata": {},
   "source": [
    "The following cell is a **Code** cell. You can recognize a **Code** cell since it has a `In [ ]` to the far left. \n",
    "\n",
    "This **Code** cell does the very basic task to print a \"Hello Python\" text. The next notebooks will introduce the main concepts of programming with Python. Here you need to just learn how to execute the code in a **Code** cell:\n",
    "\n",
    "- Activate the following Code cell by clicking in it.\n",
    "- Click the <button class='btn btn-default btn-xs'><i class=\"icon-step-forward fa fa-step-forward\"></i></button> Run button at the top of this notebook (or, alternatively, press `Shift+Enter`) like you did for the **Markdown** cell."
   ]
  },
  {
   "cell_type": "code",
   "execution_count": null,
   "metadata": {},
   "outputs": [],
   "source": [
    "print(\"Hello Python\")"
   ]
  },
  {
   "cell_type": "markdown",
   "metadata": {},
   "source": [
    "If you got a \"Hello Python\" text under the **Code** cell, congratulations! You have successfully executed the Python code."
   ]
  },
  {
   "cell_type": "markdown",
   "metadata": {},
   "source": [
    "<img align=\"left\" width=\"6%\" style=\"padding-right:10px;\" src=\"images/key.png\">\n",
    "\n",
    "The `print()` performs the *action* to display text between the two parentheses."
   ]
  },
  {
   "cell_type": "markdown",
   "metadata": {},
   "source": [
    "<img align=\"left\" width=\"6%\" style=\"padding-right:10px;\" src=\"images/key.png\">\n",
    "\n",
    "The `print()` is just one of the many *actions* that are defined in Python. In coding, these actions are called **functions**."
   ]
  },
  {
   "cell_type": "markdown",
   "metadata": {},
   "source": [
    " You will learn soon about many of these predefined function, and how to create your own functions. "
   ]
  },
  {
   "cell_type": "markdown",
   "metadata": {},
   "source": [
    "<img align=\"left\" width=\"6%\" style=\"padding-right:10px;\" src=\"images/info.png\">\n",
    "\n",
    "Give a second look at the code in the above **Code** cell. It does not have space characters before or after the `(` parenthesis or before the `)` parenthesis. What happens if we add spaces? Try to execute the following **Code** cell that has additional space characters."
   ]
  },
  {
   "cell_type": "code",
   "execution_count": null,
   "metadata": {},
   "outputs": [],
   "source": [
    "print ( \"Hello Python\" )"
   ]
  },
  {
   "cell_type": "markdown",
   "metadata": {},
   "source": [
    "<img align=\"left\" width=\"6%\" style=\"padding-right:10px;\" src=\"images/info.png\">\n",
    "\n",
    "Python simply ignores the additional space characters. However, adding those characters does **not** follow the official Python coding style that is named [PEP8](https://www.python.org/dev/peps/pep-0008/). In this collection of notebooks, we follow the [PEP8](https://www.python.org/dev/peps/pep-0008/) coding style that does not allow additional space characters. Thus:"
   ]
  },
  {
   "cell_type": "code",
   "execution_count": null,
   "metadata": {},
   "outputs": [],
   "source": [
    "print(\"Hello Python\")"
   ]
  },
  {
   "cell_type": "markdown",
   "metadata": {},
   "source": [
    "***"
   ]
  },
  {
   "cell_type": "markdown",
   "metadata": {},
   "source": [
    "# Notebook Exercises"
   ]
  },
  {
   "cell_type": "markdown",
   "metadata": {},
   "source": [
    "Each notebook contains text and example code, but also several exercises for you to solve. "
   ]
  },
  {
   "cell_type": "markdown",
   "metadata": {},
   "source": [
    "<img align=\"left\" width=\"6%\" style=\"padding-right:10px;\" src=\"images/test.png\">\n",
    "\n",
    "A test sheet with a pencil indicates the beginning of an exercise."
   ]
  },
  {
   "cell_type": "markdown",
   "metadata": {},
   "source": [
    "A typical exercise has three parts:\n",
    "\n",
    "1. Some text explaining the exercise.\n",
    "3. A *Show Solution* button that will load a solution for the exercise.\n",
    "2. An empty or partially filled cell where you will write your solution.\n",
    "\n",
    "Here is your first exercise!"
   ]
  },
  {
   "cell_type": "markdown",
   "metadata": {},
   "source": [
    " "
   ]
  },
  {
   "cell_type": "markdown",
   "metadata": {
    "solution2": "hidden",
    "solution2_first": true
   },
   "source": [
    "<img align=\"left\" width=\"6%\" style=\"padding-right:10px;\" src=\"images/test.png\">\n",
    "\n",
    "Write code that prints the following text: `Python is easy to learn!`."
   ]
  },
  {
   "cell_type": "code",
   "execution_count": null,
   "metadata": {
    "solution2": "hidden"
   },
   "outputs": [],
   "source": [
    "print('Python is easy to learn!')"
   ]
  },
  {
   "cell_type": "code",
   "execution_count": null,
   "metadata": {},
   "outputs": [],
   "source": []
  },
  {
   "cell_type": "markdown",
   "metadata": {},
   "source": [
    "***"
   ]
  },
  {
   "cell_type": "markdown",
   "metadata": {},
   "source": [
    "# How to clear a Notebook?"
   ]
  },
  {
   "cell_type": "markdown",
   "metadata": {},
   "source": [
    "Sometimes you want to clear the coding results to repeat the execution of a notebook. \n",
    "\n",
    "You may do it by clicking in the Menu bar at the top of this notebook: `Kernel/Restart and Clear Output`.\n",
    "\n",
    "![How to clear a notebook](images/000_020_dashboard_restart_kernel_and_clear_output.png)"
   ]
  },
  {
   "cell_type": "markdown",
   "metadata": {},
   "source": [
    "***"
   ]
  },
  {
   "cell_type": "markdown",
   "metadata": {},
   "source": [
    "# Summary on how to use a notebook"
   ]
  },
  {
   "cell_type": "markdown",
   "metadata": {},
   "source": [
    "- A notebook has two modes: **command Mode** and **edit Mode**.\n",
    "- When in **command mode**, double click or press `Enter` to edit a given cell (like this **Markdown cell**).\n",
    "- When in **edit mode**:\n",
    "  - To switch back to **command mode**, press `Esc` to stop the editing.\n",
    "  - To execute the cell, click the <button class='btn btn-default btn-xs'><i class=\"icon-step-forward fa fa-step-forward\"></i></button> Run button or press `Shift+Enter`.\n",
    "- To repeat the code execution with a clear notebook, click `Kernel/Restart and Clear Output` in the Menu bar.\n",
    "\n",
    "The above list contains just the minimal set of what a notebook can do, but it is enough for starting to work with this collection of notebooks. The Menu Bar and the Toolbar has several additional commands for interacting with a notebook."
   ]
  },
  {
   "cell_type": "markdown",
   "metadata": {},
   "source": [
    "***"
   ]
  },
  {
   "cell_type": "markdown",
   "metadata": {},
   "source": [
    "# How to access the other notebooks?"
   ]
  },
  {
   "cell_type": "markdown",
   "metadata": {},
   "source": [
    "1. Right-click on the first icon at the top left part of this notebook, then select the option to open on a new tab:\n",
    "\n",
    "![How to open the Jupyter dashboard](images/000_110_open_dashboard.png)\n",
    "\n",
    "2. Once that the browser open the notebook dashboard, click on the folder named `python_basics`:\n",
    "\n",
    "![Jupyter dashboard with_root_folder](images/000_120_dashboard_with_root_folder.png)\n",
    "\n",
    "3. The dashboard page will list all the available notebooks (e.g., `000_Welcome_on_board.ipynb` is this current notebook):\n",
    "\n",
    "![Jupyter dashboard listing_notebooks](images/000_130_dashboard_list_of_notebooks.png)\n",
    "\n",
    "4. It is possible to click and access the listed notebooks in any order. However, you should follow their numerical order the first time that you go through them. This is because they incrementally introduce new concepts."
   ]
  },
  {
   "cell_type": "markdown",
   "metadata": {},
   "source": [
    "Alternatively, you can use the **Navigation** commands present at the very end of each notebook."
   ]
  },
  {
   "cell_type": "markdown",
   "metadata": {},
   "source": [
    "***"
   ]
  },
  {
   "cell_type": "markdown",
   "metadata": {},
   "source": [
    "<img align=\"left\" width=\"6%\" style=\"padding-right:10px; padding-top:10px;\" src=\"images/refs.png\">\n",
    "\n",
    "## Useful References"
   ]
  },
  {
   "cell_type": "markdown",
   "metadata": {},
   "source": [
    "- [The Python website](http://www.python.org/)\n",
    "- [The official introductory notebooks for Jupyter Notebooks](https://nbviewer.jupyter.org/github/jupyter/notebook/tree/master/docs/source/examples/Notebook/)\n",
    "- [The Jupyter Notebook manual](https://jupyter-notebook.readthedocs.io/en/stable/notebook.html)\n",
    "\n",
    "  - [Browser compatibility](https://jupyter-notebook.readthedocs.io/en/stable/notebook.html#browser-compatibility)\n",
    "  - [The interface page](https://jupyter-notebook.readthedocs.io/en/stable/notebook.html#notebook-user-interface)\n",
    "  - [The Markdown page](https://jupyter-notebook.readthedocs.io/en/stable/examples/Notebook/Working%20With%20Markdown%20Cells.html)\n",
    " \n",
    "- Free e-books to learn more about Python and Data Science:\n",
    "  - [*Think Python 2nd Edition* by Allen B. Downey](http://greenteapress.com/wp/think-python-2e/)\n",
    "  - [*Python Data Science Handbook* by Jake VanderPlas](https://jakevdp.github.io/PythonDataScienceHandbook/)\n"
   ]
  },
  {
   "cell_type": "markdown",
   "metadata": {},
   "source": [
    "<img align=\"left\" width=\"5%\" style=\"padding-right:10px;\" src=\"images/email.png\">\n",
    "\n",
    "*For issues or suggestions related to this notebook, write to: gmasetti@ccom.unh.edu*"
   ]
  },
  {
   "cell_type": "markdown",
   "metadata": {},
   "source": [
    "<!--NAVIGATION-->\n",
    "| [Contents](index.ipynb) | [Variables and Type >](001_Variables_and_Types.ipynb)"
   ]
  }
 ],
 "metadata": {
  "kernelspec": {
   "display_name": "Python 3",
   "language": "python",
   "name": "python3"
  },
  "language_info": {
   "codemirror_mode": {
    "name": "ipython",
    "version": 3
   },
   "file_extension": ".py",
   "mimetype": "text/x-python",
   "name": "python",
   "nbconvert_exporter": "python",
   "pygments_lexer": "ipython3",
   "version": "3.6.7"
  }
 },
 "nbformat": 4,
 "nbformat_minor": 2
}
