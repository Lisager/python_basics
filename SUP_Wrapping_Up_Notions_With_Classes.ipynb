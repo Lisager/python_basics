{
 "cells": [
  {
   "cell_type": "markdown",
   "metadata": {},
   "source": [
    "<a href=\"https://www.hydroffice.org/epom/\"><img src=\"images/000_000_epom_logo.png\" alt=\"ePOM\" title=\"Open ePOM home page\" align=\"center\" width=\"12%\" alt=\"Python logo\\\"></a>"
   ]
  },
  {
   "cell_type": "markdown",
   "metadata": {},
   "source": [
    "<a href=\"https://piazza.com/e-learning_python_for_ocean_mapping/summer2019/om000/home\"><img src=\"images/help.png\" alt=\"ePOM\" title=\"Ask questions on Piazza.com\" align=\"right\" width=\"10%\" alt=\"Piazza.com\\\"></a>\n",
    "# Wrapping Up Notions"
   ]
  },
  {
   "cell_type": "markdown",
   "metadata": {},
   "source": [
    "This is the last notebook of this collection. We will not introduce new big concepts, but we will apply what has been discussed in the past notebooks."
   ]
  },
  {
   "cell_type": "markdown",
   "metadata": {},
   "source": [
    "We will do it by creating a class to manage the reading and the writing for a  data format more complex that the ones that we met up to now."
   ]
  },
  {
   "cell_type": "markdown",
   "metadata": {},
   "source": [
    "This is the text content of the `ctd.txt` file in the `data` folder:\n",
    "\n",
    "![ctd_txt](images/010_000_ctd_txt.png)"
   ]
  },
  {
   "cell_type": "markdown",
   "metadata": {},
   "source": [
    "As you can see in the above image, the first four rows contain some metadata information about when and where the data were collected."
   ]
  },
  {
   "cell_type": "markdown",
   "metadata": {},
   "source": [
    "The rows starting from the fifth line has a structure of four columns, with measures of depth, sound speed, temperature, and salinity."
   ]
  },
  {
   "cell_type": "markdown",
   "metadata": {},
   "source": [
    "The collection of multiple oceanographic measures is common for a [CTD instrument](https://en.wikipedia.org/wiki/CTD_(instrument)). "
   ]
  },
  {
   "cell_type": "markdown",
   "metadata": {},
   "source": [
    "## Initial Class Creation"
   ]
  },
  {
   "cell_type": "markdown",
   "metadata": {},
   "source": [
    "As done in the [First Steps of a Class notebook](008_First_Steps_of_a_Class.ipynb), we will first create a class with just two special methods: `init(self)` and `print(self)`:"
   ]
  },
  {
   "cell_type": "code",
   "execution_count": null,
   "metadata": {},
   "outputs": [],
   "source": [
    "import os\n",
    "\n",
    "class CTDManager:\n",
    "    \"\"\"A file manager for CTD data\"\"\"\n",
    "    \n",
    "    def __init__(self, data_path):\n",
    "        self.depth_values = list()\n",
    "        self.temp_values = list()\n",
    "        self.sal_values = list()\n",
    "        self.ss_values = list()\n",
    "        self.metadata = dict()\n",
    "        self.ctd_path = data_path\n",
    "        \n",
    "    def __str__(self):\n",
    "        ctd_path_txt = \"path: \" + self.ctd_path + \", \"\n",
    "        ctd_values_txt = \"nr_values: \" + str(len(self.depth_values))\n",
    "        txt = \"CTDManager[\" + ctd_path_txt + ctd_values_txt + \", \" + str(self.metadata) + \"]\"\n",
    "        return txt"
   ]
  },
  {
   "cell_type": "markdown",
   "metadata": {},
   "source": [
    "The above class is richer of attributes than the previous ones that we have created. In fact, we need to accommodate the metadata and four columns representing different types of measures. "
   ]
  },
  {
   "cell_type": "markdown",
   "metadata": {},
   "source": [
    "We will retrieve the full path to the `ctd.txt` file, then we will pass it to the just created class:"
   ]
  },
  {
   "cell_type": "code",
   "execution_count": null,
   "metadata": {},
   "outputs": [],
   "source": [
    "def get_data_paths():\n",
    "    data_paths = list()\n",
    "    cur_folder = os.path.abspath(os.path.curdir)\n",
    "    data_folder = os.path.join(cur_folder, \"data\")\n",
    "    data_filenames = os.listdir(data_folder)\n",
    "    \n",
    "    for data_filename in data_filenames:\n",
    "        data_path = os.path.join(data_folder, data_filename)\n",
    "        data_paths.append(data_path)\n",
    "    \n",
    "    data_paths.sort()  # sort in alphabetical order\n",
    "    \n",
    "    return data_paths\n",
    "\n",
    "retrieved_paths = get_data_paths()\n",
    "input_path = retrieved_paths[0]\n",
    "print(\"input path: \" + input_path)\n",
    "\n",
    "ctd_mng = CTDManager(data_path=input_path)\n",
    "print(ctd_mng)"
   ]
  },
  {
   "cell_type": "markdown",
   "metadata": {},
   "source": [
    "## Reading Data"
   ]
  },
  {
   "cell_type": "markdown",
   "metadata": {},
   "source": [
    "Similarly to the `SalinityManager`, the `CTDManager` is now extended by adding a methods to its interface for reading data:"
   ]
  },
  {
   "cell_type": "code",
   "execution_count": null,
   "metadata": {},
   "outputs": [],
   "source": [
    "class CTDManager:\n",
    "    \"\"\"A file manager for CTD data\"\"\"\n",
    "    \n",
    "    def __init__(self, data_path):\n",
    "        self.depth_values = list()\n",
    "        self.temp_values = list()\n",
    "        self.sal_values = list()\n",
    "        self.ss_values = list()\n",
    "        self.metadata = dict()\n",
    "        self.ctd_path = data_path\n",
    "        \n",
    "    def __str__(self):\n",
    "        ctd_path_txt = \"path: \" + self.ctd_path + \", \"\n",
    "        ctd_values_txt = \"nr_values: \" + str(len(self.depth_values))\n",
    "        txt = \"CTDManager[\" + ctd_path_txt + ctd_values_txt + ', ' + str(self.metadata) + \"]\"\n",
    "        return txt\n",
    "    \n",
    "    def read(self):  # NEW METHOD!\n",
    "        # check whether the passed file does not exist\n",
    "        if not os.path.exists(self.ctd_path):\n",
    "            raise RuntimeError(\"Unable to locate \" + self.ctd_path)\n",
    "            \n",
    "        # read the file content\n",
    "        ctd_file = open(self.ctd_path)\n",
    "        ctd_content = ctd_file.read()\n",
    "        ctd_file.close()\n",
    "        \n",
    "        ctd_lines = ctd_content.splitlines()\n",
    "        count = 0  # to count the number of read rows\n",
    "        for ctd_line in ctd_lines:\n",
    "            \n",
    "            if count < 4: # measures \n",
    "                meta_pair = ctd_line.split(\":\"\")\n",
    "                self.metadata[meta_pair[0]] = meta_pair[1]\n",
    "            \n",
    "            else:  # measures\n",
    "                measures = ctd_line.split()\n",
    "                self.depth_values.append(float(measures[0]))\n",
    "                self.temp_values.append(float(measures[1]))\n",
    "                self.sal_values.append(float(measures[2]))\n",
    "                self.ss_values.append(float(measures[3]))\n",
    "            \n",
    "            count += 1  # it is equal to write: count = count + 1"
   ]
  },
  {
   "cell_type": "markdown",
   "metadata": {},
   "source": [
    "In the above code we have used the [`str.split()`](https://docs.python.org/3.6/library/stdtypes.html?#str.split) method. This method returns a list of the words in the string, using the passed delimiter string (e.g., `\":\"`). \n",
    "\n",
    "In case that a parameter is specified (as we did for the measures section of the code), the following splitting algorithm is applied: *\"runs of consecutive whitespace are regarded as a single separator, and the result will contain no empty strings at the start or end if the string has leading or trailing whitespace.\"*"
   ]
  },
  {
   "cell_type": "markdown",
   "metadata": {},
   "source": [
    "Before calling the `write(self, output_path)` method, we need to set the output path:"
   ]
  },
  {
   "cell_type": "code",
   "execution_count": null,
   "metadata": {},
   "outputs": [],
   "source": [
    "def get_output_folder():\n",
    "    cur_folder = os.path.abspath(os.path.curdir)\n",
    "    output_folder = os.path.join(cur_folder, \"output\")\n",
    "    if os.path.exists(output_folder):\n",
    "        return output_folder\n",
    "    else:  # in case that the output folder does not exists, we raise a meaningful error\n",
    "        raise RuntimeError(\"Unable to locate the output folder: \" + output_folder)\n",
    "\n",
    "output_folder = get_output_folder()\n",
    "output_ctd_path = os.path.join(output_folder, \"output_ctd.txt\")\n",
    "print(\"The output file path is: \" + output_ctd_path)"
   ]
  },
  {
   "cell_type": "markdown",
   "metadata": {},
   "source": [
    "With the retrieved `output_ctd_path`, we can now call the method to write the CTD values to the disk:"
   ]
  },
  {
   "cell_type": "code",
   "execution_count": null,
   "metadata": {},
   "outputs": [],
   "source": [
    "ctd_mng = CTDManager(data_path=input_path)\n",
    "ctd_mng.read()\n",
    "print(ctd_mng)"
   ]
  },
  {
   "cell_type": "markdown",
   "metadata": {},
   "source": [
    "It works! We have been able to read a complex format in just a few lines of code."
   ]
  },
  {
   "cell_type": "markdown",
   "metadata": {},
   "source": [
    "***"
   ]
  },
  {
   "cell_type": "markdown",
   "metadata": {},
   "source": [
    "<img align=\"left\" width=\"6%\" style=\"padding-right:10px; padding-top:10px;\" src=\"images/refs.png\">\n",
    "\n",
    "## Useful References"
   ]
  },
  {
   "cell_type": "markdown",
   "metadata": {},
   "source": [
    "* [The official Python 3.6 documentation](https://docs.python.org/3.6/index.html)\n",
    "* [CTD instrument](https://en.wikipedia.org/wiki/CTD_(instrument))"
   ]
  },
  {
   "cell_type": "markdown",
   "metadata": {},
   "source": [
    "<img align=\"left\" width=\"5%\" style=\"padding-right:10px;\" src=\"images/email.png\">\n",
    "\n",
    "*For issues or suggestions related to this notebook, write to: epom@ccom.unh.edu*"
   ]
  },
  {
   "cell_type": "markdown",
   "metadata": {},
   "source": [
    "<!--NAVIGATION-->\n",
    "[< More About Classes](SUP_More_About_Classes.ipynb) | [Contents](index.ipynb) |"
   ]
  }
 ],
 "metadata": {
  "kernelspec": {
   "display_name": "Python 3",
   "language": "python",
   "name": "python3"
  },
  "language_info": {
   "codemirror_mode": {
    "name": "ipython",
    "version": 3
   },
   "file_extension": ".py",
   "mimetype": "text/x-python",
   "name": "python",
   "nbconvert_exporter": "python",
   "pygments_lexer": "ipython3",
   "version": "3.6.7"
  }
 },
 "nbformat": 4,
 "nbformat_minor": 2
}
