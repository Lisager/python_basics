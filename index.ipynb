{
 "cells": [
  {
   "cell_type": "markdown",
   "metadata": {},
   "source": [
    "<a href=\"https://www.hydroffice.org/epom/\"><img src=\"images/000_000_epom_logo.png\" alt=\"ePOM\" title=\"Open ePOM home page\" align=\"center\" width=\"12%\" alt=\"Python logo\\\"></a>"
   ]
  },
  {
   "cell_type": "markdown",
   "metadata": {},
   "source": [
    "# Programming Basic With Python"
   ]
  },
  {
   "cell_type": "markdown",
   "metadata": {},
   "source": [
    "## Main Notebooks"
   ]
  },
  {
   "cell_type": "markdown",
   "metadata": {},
   "source": [
    "| Notebook Name | Topics |\n",
    "| --- | --- |\n",
    "| [Welcome on Board](000_Welcome_on_Board.ipynb) | Python: pros and cons. Notebook interaction. `print()` |\n",
    "| [Variable and Types](001_Variables_and_Types.ipynb) | Variables. `int`, `float`, `str`. `type()`. Operators and type casting. |\n",
    "| [Lists of Variables](002_Lists_of_Variables.ipynb) | List. `dir()`. `len()`. Methods. |\n",
    "| [Conditional Execution](003_Conditional_Execution.ipynb) | `bool`. `#`. `if`, `elif`, and `else`. `len()`. `and`, `or`, `not`. |\n",
    "| [Loops](004_Loops.ipynb) | `for` loop. `while` loop. List `pop()`.|\n",
    "| [Write Your Own Functions](005_Write_Your_Own_Functions.ipynb) | `def`. Parameters. `return`. `None`. |\n",
    "| [Read and Write Text Files](006_Read_and_Write_Text_Files.ipynb) | `os` module. `raise`. `open()` |\n",
    "| [Dictionaries and Metadata](007_Dictionaries_and_Metadata.ipynb) | `dict`, `OrderedDict`. Metadata. |\n",
    "| [A Class as a Data Container](008_A_Class_as_a_Data_Container.ipynb) | `class` and `__init__()`. |\n",
    "| [Wrapping Up Notions](009_Wrapping_Up_Notions.ipynb) | Review. `str.split()`. |"
   ]
  },
  {
   "cell_type": "markdown",
   "metadata": {},
   "source": [
    "## Supplemental Notebooks"
   ]
  },
  {
   "cell_type": "markdown",
   "metadata": {},
   "source": [
    "| Notebook Name | Topics |\n",
    "| --- | --- |\n",
    "| [Python is Dynamically and Strongly Typed](SUP_Python_is_Dynamically_and_Strongly_Typed.ipynb) | Statically vs. Dynamically Typing. Strongly vs. Weakly Typing. |\n",
    "| [First Steps of a Class](SUP_First_Steps_of_a_Class.ipynb) | `class`, `__init__`, `self`, class variables |\n",
    "| [More About Classes](SUP_More_About_Classes.ipynb) | `class` interface. |\n",
    "| [Wrapping Up Notions with Classes](SUP_Wrapping_Up_Notions_with_Classes.ipynb) | Review. |"
   ]
  },
  {
   "cell_type": "markdown",
   "metadata": {},
   "source": [
    "## Credits"
   ]
  },
  {
   "cell_type": "markdown",
   "metadata": {},
   "source": [
    "The notebooks are developed and maintained by:\n",
    "\n",
    "* [Giuseppe Masetti](mailto:gmasetti@ccom.unh.edu>)\n",
    "\n",
    "* [Rochelle Wigley](mailto:rochelle@ccom.unh.edu>)\n",
    "\n",
    "* [Semme Dijkstra](mailto:semmed@ccom.unh.edu>)\n",
    "\n",
    "* [Jordan Chadwick](mailto:jordan.chadwick@gmail.com>)"
   ]
  },
  {
   "cell_type": "markdown",
   "metadata": {},
   "source": [
    "## Code License"
   ]
  },
  {
   "cell_type": "markdown",
   "metadata": {},
   "source": [
    "<a href=\"https://github.com/hydroffice/python_basics/raw/master/LICENSE\"><img src=\"https://github.com/hydroffice/python_basics/raw/master/images/LGPLv3.png\" alt=\"LGPLv3\" title=\"Open code license\" align=\"left\" width=\"12%\"></a>"
   ]
  },
  {
   "cell_type": "markdown",
   "metadata": {},
   "source": [
    "## Text License"
   ]
  },
  {
   "cell_type": "markdown",
   "metadata": {},
   "source": [
    "<a href=\"https://github.com/hydroffice/python_basics/raw/master/TEXT\"><img src=\"https://github.com/hydroffice/python_basics/raw/master/images/CC-BY-SA.png\" alt=\"CC BY-SA\" title=\"Open text license\" align=\"left\" width=\"12%\"></a>"
   ]
  },
  {
   "cell_type": "markdown",
   "metadata": {},
   "source": [
    "<img align=\"left\" width=\"5%\" style=\"padding-right:10px;\" src=\"images/email.png\">\n",
    "\n",
    "*For issues or suggestions related to these notebooks, write to: epom@ccom.unh.edu*"
   ]
  }
 ],
 "metadata": {
  "kernelspec": {
   "display_name": "Python 3",
   "language": "python",
   "name": "python3"
  },
  "language_info": {
   "codemirror_mode": {
    "name": "ipython",
    "version": 3
   },
   "file_extension": ".py",
   "mimetype": "text/x-python",
   "name": "python",
   "nbconvert_exporter": "python",
   "pygments_lexer": "ipython3",
   "version": "3.6.7"
  }
 },
 "nbformat": 4,
 "nbformat_minor": 2
}
