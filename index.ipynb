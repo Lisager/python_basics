{
 "cells": [
  {
   "cell_type": "markdown",
   "metadata": {},
   "source": [
    "# List of Notebooks with Main Topics"
   ]
  },
  {
   "cell_type": "markdown",
   "metadata": {},
   "source": [
    "| Notebook Name | Topics |\n",
    "| --- | --- |\n",
    "| [Welcome on Board](000_Welcome_on_Board.ipynb) | Python pros and cons. Basic interaction with notebooks. First exercise. `print()` |\n",
    "| [Variable and Types](001_The_Python_Language.ipynb) | Variables. Numeric and text types. `type()`. Examples of operators and type casting. |\n",
    "| [Lists of Variables](002_Lists_of_Variables.ipynb) | List. `dir()`. `len()`. Methods. |\n",
    "| [Conditional Execution](003_Conditional_Execution.ipynb) | `bool`. `#`. `if`, `elif`, and `else`. `len()`. |\n",
    "| [Loops](004_Loops.ipynb) | `for`. `while`. |\n",
    "| [Write Your Own Functions](005_Write_Your_Own_Functions.ipynb) | `def` |\n",
    "| [Dictionaries](006_Dictionaries.ipynb) | `dict` |\n",
    "| [Read and Write Text Files](007_Read_and_Write_Text_Files.ipynb) | `open()` |\n",
    "| [First Steps of a Class](008_First_Steps_of_a_Class.ipynb) | `class`, `__init__`, `self`, class variables |\n",
    "| [More About Classes](009_More_About_Classes.ipynb) | `class` |\n",
    "| [Wrapping Up Notions](010_Wrapping_Up_Notions.ipynb) | Review. |\n"
   ]
  }
 ],
 "metadata": {
  "kernelspec": {
   "display_name": "Python 3",
   "language": "python",
   "name": "python3"
  },
  "language_info": {
   "codemirror_mode": {
    "name": "ipython",
    "version": 3
   },
   "file_extension": ".py",
   "mimetype": "text/x-python",
   "name": "python",
   "nbconvert_exporter": "python",
   "pygments_lexer": "ipython3",
   "version": "3.6.5"
  }
 },
 "nbformat": 4,
 "nbformat_minor": 2
}
